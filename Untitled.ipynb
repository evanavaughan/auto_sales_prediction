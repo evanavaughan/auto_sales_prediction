{
 "cells": [
  {
   "cell_type": "code",
   "execution_count": null,
   "metadata": {},
   "outputs": [],
   "source": [
    "march = 'http://www.goodcarbadcar.net/2019/04/march-2019-the-best-selling-vehicles-in-america-every-vehicle-ranked/'"
   ]
  },
  {
   "cell_type": "code",
   "execution_count": null,
   "metadata": {},
   "outputs": [],
   "source": [
    "april = 'http://www.goodcarbadcar.net/2019/05/april-2019-the-best-selling-vehicles-in-america-every-vehicle-ranked/'"
   ]
  },
  {
   "cell_type": "code",
   "execution_count": 1,
   "metadata": {},
   "outputs": [],
   "source": [
    "feb = 'http://www.goodcarbadcar.net/2019/03/february-2019-the-best-selling-vehicles-in-america-every-vehicle-ranked/'\n",
    "jan = 'http://www.goodcarbadcar.net/2019/02/january-2019-the-best-selling-vehicles-in-america-every-vehicle-ranked/'\n",
    "dec = 'http://www.goodcarbadcar.net/2019/01/december-2018-the-best-selling-vehicles-in-america-every-vehicle-ranked/'"
   ]
  },
  {
   "cell_type": "code",
   "execution_count": 2,
   "metadata": {},
   "outputs": [],
   "source": [
    "nov = 'http://www.goodcarbadcar.net/2018/12/november-2018-the-best-selling-vehicles-in-america-every-vehicle-ranked/'"
   ]
  },
  {
   "cell_type": "code",
   "execution_count": 4,
   "metadata": {},
   "outputs": [],
   "source": [
    "october = 'http://www.goodcarbadcar.net/2018/11/october-2018-the-best-selling-vehicles-in-america-every-vehicle-ranked/'"
   ]
  },
  {
   "cell_type": "code",
   "execution_count": null,
   "metadata": {},
   "outputs": [],
   "source": [
    "sept = 'http://www.goodcarbadcar.net/2018/10/september-2018-the-best-selling-vehicles-in-america-every-vehicle-ranked/'"
   ]
  },
  {
   "cell_type": "code",
   "execution_count": 6,
   "metadata": {},
   "outputs": [],
   "source": [
    "import requests\n",
    "from bs4 import BeautifulSoup\n",
    "import re"
   ]
  },
  {
   "cell_type": "code",
   "execution_count": 8,
   "metadata": {},
   "outputs": [],
   "source": [
    "web = 'http://www.goodcarbadcar.net/best-sellers/page/2/'"
   ]
  },
  {
   "cell_type": "code",
   "execution_count": 10,
   "metadata": {},
   "outputs": [],
   "source": [
    "r = requests.get(web)\n",
    "html = r.text"
   ]
  },
  {
   "cell_type": "code",
   "execution_count": 12,
   "metadata": {},
   "outputs": [],
   "source": [
    "soup = BeautifulSoup(html, 'html.parser')"
   ]
  },
  {
   "cell_type": "code",
   "execution_count": 38,
   "metadata": {},
   "outputs": [],
   "source": [
    "websites = soup.findAll('a' ,{'class':'vw-post-box__link'})"
   ]
  },
  {
   "cell_type": "code",
   "execution_count": 39,
   "metadata": {},
   "outputs": [
    {
     "data": {
      "text/plain": [
       "[<a class=\"vw-post-box__link\" href=\"http://www.goodcarbadcar.net/2018/04/top-20-best-selling-cars-in-canada-march-2018/\" itemprop=\"url\" rel=\"bookmark\">\n",
       " \t\t\t\t\tTop 20 Best-Selling Cars In Canada – March 2018\t\t\t\t</a>,\n",
       " <a class=\"vw-post-box__link\" href=\"http://www.goodcarbadcar.net/2018/04/top-20-best-selling-cars-in-america-march-2018/\" itemprop=\"url\" rel=\"bookmark\">\n",
       " \t\t\t\t\tTop 20 Best-Selling Cars In America – March 2018\t\t\t\t</a>,\n",
       " <a class=\"vw-post-box__link\" href=\"http://www.goodcarbadcar.net/2018/03/top-20-best-selling-cars-canada-february-2018/\" itemprop=\"url\" rel=\"bookmark\">\n",
       " \t\t\t\t\tTop 20 Best-Selling Cars In Canada – February 2018\t\t\t\t</a>,\n",
       " <a class=\"vw-post-box__link\" href=\"http://www.goodcarbadcar.net/2018/03/top-20-best-selling-cars-america-february-2018/\" itemprop=\"url\" rel=\"bookmark\">\n",
       " \t\t\t\t\tTop 20 Best-Selling Cars In America – February 2018\t\t\t\t</a>,\n",
       " <a class=\"vw-post-box__link\" href=\"http://www.goodcarbadcar.net/2018/02/top-20-best-selling-cars-america-january-2018/\" itemprop=\"url\" rel=\"bookmark\">\n",
       " \t\t\t\t\tTop 20 Best-Selling Cars In America – January 2018\t\t\t\t</a>,\n",
       " <a class=\"vw-post-box__link\" href=\"http://www.goodcarbadcar.net/2018/01/top-20-best-selling-cars-canada-december-2017/\" itemprop=\"url\" rel=\"bookmark\">\n",
       " \t\t\t\t\tTop 20 Best-Selling Cars In Canada – December 2017\t\t\t\t</a>,\n",
       " <a class=\"vw-post-box__link\" href=\"http://www.goodcarbadcar.net/2018/01/top-20-best-selling-cars-america-december-2017/\" itemprop=\"url\" rel=\"bookmark\">\n",
       " \t\t\t\t\tTop 20 Best-Selling Cars In America – December 2017\t\t\t\t</a>,\n",
       " <a class=\"vw-post-box__link\" href=\"http://www.goodcarbadcar.net/2017/12/top-20-best-selling-cars-canada-november-2017/\" itemprop=\"url\" rel=\"bookmark\">\n",
       " \t\t\t\t\tTop 20 Best-Selling Cars In Canada – November 2017\t\t\t\t</a>,\n",
       " <a class=\"vw-post-box__link\" href=\"http://www.goodcarbadcar.net/2017/12/top-20-best-selling-cars-america-november-2017/\" itemprop=\"url\" rel=\"bookmark\">\n",
       " \t\t\t\t\tTop 20 Best-Selling Cars In America – November 2017\t\t\t\t</a>,\n",
       " <a class=\"vw-post-box__link\" href=\"http://www.goodcarbadcar.net/2017/11/top-20-best-selling-cars-canada-october-2017/\" itemprop=\"url\" rel=\"bookmark\">\n",
       " \t\t\t\t\tTop 20 Best-Selling Cars In Canada – October 2017\t\t\t\t</a>,\n",
       " <a class=\"vw-post-box__link\" href=\"http://www.goodcarbadcar.net/2017/11/top-20-best-selling-cars-america-october-2017/\" itemprop=\"url\" rel=\"bookmark\">\n",
       " \t\t\t\t\tTop 20 Best-Selling Cars In America – October 2017\t\t\t\t</a>,\n",
       " <a class=\"vw-post-box__link\" href=\"http://www.goodcarbadcar.net/2017/10/top-20-best-selling-cars-canada-september-2017/\" itemprop=\"url\" rel=\"bookmark\">\n",
       " \t\t\t\t\tTop 20 Best-Selling Cars In Canada – September 2017\t\t\t\t</a>,\n",
       " <a class=\"vw-post-box__link\" href=\"http://www.goodcarbadcar.net/2018/04/top-20-best-selling-suvs-in-america-march-2018/\" itemprop=\"url\" rel=\"bookmark\">\n",
       " \t\t\t\t\tTop 20 Best-Selling SUVs In America – March 2018\t\t\t\t</a>,\n",
       " <a class=\"vw-post-box__link\" href=\"http://www.goodcarbadcar.net/2018/03/top-20-best-selling-suvs-america-february-2018/\" itemprop=\"url\" rel=\"bookmark\">\n",
       " \t\t\t\t\tTop 20 Best-Selling SUVs In America – February 2018\t\t\t\t</a>,\n",
       " <a class=\"vw-post-box__link\" href=\"http://www.goodcarbadcar.net/2018/03/top-20-best-selling-suvs-canada-february-2018/\" itemprop=\"url\" rel=\"bookmark\">\n",
       " \t\t\t\t\tTop 20 Best-Selling SUVs In Canada – February 2018\t\t\t\t</a>,\n",
       " <a class=\"vw-post-box__link\" href=\"http://www.goodcarbadcar.net/2018/02/top-20-best-selling-suvs-canada-january-2018/\" itemprop=\"url\" rel=\"bookmark\">\n",
       " \t\t\t\t\tTop 20 Best-Selling SUVs In Canada – January 2018\t\t\t\t</a>,\n",
       " <a class=\"vw-post-box__link\" href=\"http://www.goodcarbadcar.net/2018/02/top-20-best-selling-suvs-america-january-2018/\" itemprop=\"url\" rel=\"bookmark\">\n",
       " \t\t\t\t\tTop 20 Best-Selling SUVs In America – January 2018\t\t\t\t</a>,\n",
       " <a class=\"vw-post-box__link\" href=\"http://www.goodcarbadcar.net/2018/01/top-20-best-selling-suvs-canada-december-2017/\" itemprop=\"url\" rel=\"bookmark\">\n",
       " \t\t\t\t\tTop 20 Best-Selling SUVs In Canada – December 2017\t\t\t\t</a>,\n",
       " <a class=\"vw-post-box__link\" href=\"http://www.goodcarbadcar.net/2018/01/top-20-best-selling-suvs-america-december-2017/\" itemprop=\"url\" rel=\"bookmark\">\n",
       " \t\t\t\t\tTop 20 Best-Selling SUVs In America – December 2017\t\t\t\t</a>,\n",
       " <a class=\"vw-post-box__link\" href=\"http://www.goodcarbadcar.net/2017/12/top-20-best-selling-suvs-canada-november-2017/\" itemprop=\"url\" rel=\"bookmark\">\n",
       " \t\t\t\t\tTop 20 Best-Selling SUVs In Canada – November 2017\t\t\t\t</a>,\n",
       " <a class=\"vw-post-box__link\" href=\"http://www.goodcarbadcar.net/2017/12/top-20-best-selling-suvs-america-november-2017/\" itemprop=\"url\" rel=\"bookmark\">\n",
       " \t\t\t\t\tTop 20 Best-Selling SUVs In America – November 2017\t\t\t\t</a>,\n",
       " <a class=\"vw-post-box__link\" href=\"http://www.goodcarbadcar.net/2017/11/top-20-best-selling-suvs-canada-october-2017/\" itemprop=\"url\" rel=\"bookmark\">\n",
       " \t\t\t\t\tTop 20 Best-Selling SUVs In Canada – October 2017\t\t\t\t</a>,\n",
       " <a class=\"vw-post-box__link\" href=\"http://www.goodcarbadcar.net/2017/11/top-20-best-selling-suvs-america-october-2017/\" itemprop=\"url\" rel=\"bookmark\">\n",
       " \t\t\t\t\tTop 20 Best-Selling SUVs In America – October 2017\t\t\t\t</a>,\n",
       " <a class=\"vw-post-box__link\" href=\"http://www.goodcarbadcar.net/2017/10/top-20-best-selling-suvs-canada-september-2017/\" itemprop=\"url\" rel=\"bookmark\">\n",
       " \t\t\t\t\tTop 20 Best-Selling SUVs In Canada – September 2017\t\t\t\t</a>,\n",
       " <a class=\"vw-post-box__link\" href=\"http://www.goodcarbadcar.net/2018/01/top-11-best-selling-pickup-trucks-canada-december-2017/\" itemprop=\"url\" rel=\"bookmark\">\n",
       " \t\t\t\t\tTop 11 Best-Selling Pickup Trucks In Canada – December 2017\t\t\t\t</a>,\n",
       " <a class=\"vw-post-box__link\" href=\"http://www.goodcarbadcar.net/2018/01/top-11-best-selling-pickup-trucks-america-december-2017/\" itemprop=\"url\" rel=\"bookmark\">\n",
       " \t\t\t\t\tTop 11 Best-Selling Pickup Trucks In America – December 2017\t\t\t\t</a>,\n",
       " <a class=\"vw-post-box__link\" href=\"http://www.goodcarbadcar.net/2017/12/top-11-best-selling-pickup-trucks-canada-november-2017/\" itemprop=\"url\" rel=\"bookmark\">\n",
       " \t\t\t\t\tTop 11 Best-Selling Pickup Trucks In Canada – November 2017\t\t\t\t</a>,\n",
       " <a class=\"vw-post-box__link\" href=\"http://www.goodcarbadcar.net/2017/12/top-11-best-selling-pickup-trucks-america-november-2017/\" itemprop=\"url\" rel=\"bookmark\">\n",
       " \t\t\t\t\tTop 11 Best-Selling Pickup Trucks In America – November 2017\t\t\t\t</a>,\n",
       " <a class=\"vw-post-box__link\" href=\"http://www.goodcarbadcar.net/2017/11/top-11-best-selling-pickup-trucks-canada-october-2017/\" itemprop=\"url\" rel=\"bookmark\">\n",
       " \t\t\t\t\tTop 11 Best-Selling Pickup Trucks In Canada – October 2017\t\t\t\t</a>,\n",
       " <a class=\"vw-post-box__link\" href=\"http://www.goodcarbadcar.net/2017/11/top-11-best-selling-pickup-trucks-in-america-october-2017/\" itemprop=\"url\" rel=\"bookmark\">\n",
       " \t\t\t\t\tTop 11 Best-Selling Pickup Trucks In America – October 2017\t\t\t\t</a>,\n",
       " <a class=\"vw-post-box__link\" href=\"http://www.goodcarbadcar.net/2017/10/top-11-best-selling-pickup-trucks-canada-september-2017/\" itemprop=\"url\" rel=\"bookmark\">\n",
       " \t\t\t\t\tTop 11 Best-Selling Pickup Trucks In Canada – September 2017\t\t\t\t</a>,\n",
       " <a class=\"vw-post-box__link\" href=\"http://www.goodcarbadcar.net/2017/10/top-11-best-selling-pickup-trucks-america-september-2017/\" itemprop=\"url\" rel=\"bookmark\">\n",
       " \t\t\t\t\tTop 11 Best-Selling Pickup Trucks In America – September 2017\t\t\t\t</a>,\n",
       " <a class=\"vw-post-box__link\" href=\"http://www.goodcarbadcar.net/2017/09/top-11-best-selling-pickup-trucks-canada-august-2017/\" itemprop=\"url\" rel=\"bookmark\">\n",
       " \t\t\t\t\tTop 11 Best-Selling Pickup Trucks In Canada – August 2017\t\t\t\t</a>,\n",
       " <a class=\"vw-post-box__link\" href=\"http://www.goodcarbadcar.net/2017/09/top-11-best-selling-pickup-trucks-america-august-2017/\" itemprop=\"url\" rel=\"bookmark\">\n",
       " \t\t\t\t\tTop 11 Best-Selling Pickup Trucks In America – August 2017\t\t\t\t</a>,\n",
       " <a class=\"vw-post-box__link\" href=\"http://www.goodcarbadcar.net/2017/08/top-11-best-selling-pickup-trucks-canada-july-2017/\" itemprop=\"url\" rel=\"bookmark\">\n",
       " \t\t\t\t\tTop 11 Best-Selling Pickup Trucks In Canada – July 2017\t\t\t\t</a>,\n",
       " <a class=\"vw-post-box__link\" href=\"http://www.goodcarbadcar.net/2017/08/top-11-best-selling-pickup-trucks-america-july-2017/\" itemprop=\"url\" rel=\"bookmark\">\n",
       " \t\t\t\t\tTop 11 Best-Selling Pickup Trucks In America – July 2017\t\t\t\t</a>,\n",
       " <a class=\"vw-post-box__link\" href=\"http://www.goodcarbadcar.net/2018/10/september-2018-the-best-selling-vehicles-in-america-every-vehicle-ranked/\" itemprop=\"url\" rel=\"bookmark\">\n",
       " \t\t\t\t\tSeptember 2018 – The Best-Selling Vehicles In America – Every Vehicle Ranked\t\t\t\t</a>,\n",
       " <a class=\"vw-post-box__link\" href=\"http://www.goodcarbadcar.net/2018/09/top-30-best-selling-vehicles-in-canada-august-2018/\" itemprop=\"url\" rel=\"bookmark\">\n",
       " \t\t\t\t\tTop 30 Best-Selling Vehicles In Canada – August 2018\t\t\t\t</a>,\n",
       " <a class=\"vw-post-box__link\" href=\"http://www.goodcarbadcar.net/2018/09/top-30-best-selling-vehicles-in-america-august-2018/\" itemprop=\"url\" rel=\"bookmark\">\n",
       " \t\t\t\t\tTop 30 Best-Selling Vehicles In America – August 2018\t\t\t\t</a>,\n",
       " <a class=\"vw-post-box__link\" href=\"http://www.goodcarbadcar.net/2018/09/august-2018-the-best-selling-vehicles-in-canada-every-vehicle-ranked/\" itemprop=\"url\" rel=\"bookmark\">\n",
       " \t\t\t\t\tAugust 2018 – The Best-Selling Vehicles In Canada – Every Vehicle Ranked\t\t\t\t</a>,\n",
       " <a class=\"vw-post-box__link\" href=\"http://www.goodcarbadcar.net/2018/09/august-2018-the-best-selling-vehicles-in-america-every-vehicle-ranked/\" itemprop=\"url\" rel=\"bookmark\">\n",
       " \t\t\t\t\tAugust 2018 – The Best-Selling Vehicles In America – Every Vehicle Ranked\t\t\t\t</a>,\n",
       " <a class=\"vw-post-box__link\" href=\"http://www.goodcarbadcar.net/2018/08/top-30-best-selling-vehicles-in-canada-july-2018/\" itemprop=\"url\" rel=\"bookmark\">\n",
       " \t\t\t\t\tTop 30 Best-Selling Vehicles In Canada – July 2018\t\t\t\t</a>,\n",
       " <a class=\"vw-post-box__link\" href=\"http://www.goodcarbadcar.net/2018/08/top-30-best-selling-vehicles-in-america-july-2018/\" itemprop=\"url\" rel=\"bookmark\">\n",
       " \t\t\t\t\tTop 30 Best-Selling Vehicles In America – July 2018\t\t\t\t</a>,\n",
       " <a class=\"vw-post-box__link\" href=\"http://www.goodcarbadcar.net/2018/08/july-2018-the-best-selling-vehicles-in-canada-every-vehicle-ranked/\" itemprop=\"url\" rel=\"bookmark\">\n",
       " \t\t\t\t\tJuly 2018 – The Best-Selling Vehicles In Canada – Every Vehicle Ranked\t\t\t\t</a>,\n",
       " <a class=\"vw-post-box__link\" href=\"http://www.goodcarbadcar.net/2018/08/july-2018-the-best-selling-vehicles-in-america-every-vehicle-ranked/\" itemprop=\"url\" rel=\"bookmark\">\n",
       " \t\t\t\t\tJuly 2018 – The Best-Selling Vehicles In America – Every Vehicle Ranked\t\t\t\t</a>,\n",
       " <a class=\"vw-post-box__link\" href=\"http://www.goodcarbadcar.net/2018/07/top-30-best-selling-vehicles-in-canada-june-2018/\" itemprop=\"url\" rel=\"bookmark\">\n",
       " \t\t\t\t\tTop 30 Best-Selling Vehicles In Canada – June 2018\t\t\t\t</a>,\n",
       " <a class=\"vw-post-box__link\" href=\"http://www.goodcarbadcar.net/2018/07/top-30-best-selling-vehicles-in-america-june-2018/\" itemprop=\"url\" rel=\"bookmark\">\n",
       " \t\t\t\t\tTop 30 Best-Selling Vehicles In America – June 2018\t\t\t\t</a>,\n",
       " <a class=\"vw-post-box__link\" href=\"http://www.goodcarbadcar.net/2018/07/june-2018-the-best-selling-vehicles-in-canada-every-vehicle-ranked/\" itemprop=\"url\" rel=\"bookmark\">\n",
       " \t\t\t\t\tJune 2018 – The Best-Selling Vehicles In Canada – Every Vehicle Ranked\t\t\t\t</a>,\n",
       " <a class=\"vw-post-box__link\" href=\"http://www.goodcarbadcar.net/2018/11/october-2018-the-best-selling-vehicles-in-canada-every-vehicle-ranked/\" itemprop=\"url\" rel=\"bookmark\">\n",
       " \t\t\t\t\tOctober 2018 – The Best-Selling Vehicles In Canada – Every Vehicle Ranked\t\t\t\t</a>,\n",
       " <a class=\"vw-post-box__link\" href=\"http://www.goodcarbadcar.net/2018/11/october-2018-the-best-selling-vehicles-in-america-every-vehicle-ranked/\" itemprop=\"url\" rel=\"bookmark\">\n",
       " \t\t\t\t\tOctober 2018 – The Best-Selling Vehicles In America – Every Vehicle Ranked\t\t\t\t</a>,\n",
       " <a class=\"vw-post-box__link\" href=\"http://www.goodcarbadcar.net/2018/10/september-2018-the-best-selling-vehicles-in-canada-every-vehicle-ranked/\" itemprop=\"url\" rel=\"bookmark\">\n",
       " \t\t\t\t\tSeptember 2018 – The Best-Selling Vehicles In Canada – Every Vehicle Ranked\t\t\t\t</a>,\n",
       " <a class=\"vw-post-box__link\" href=\"http://www.goodcarbadcar.net/2018/10/september-2018-the-best-selling-vehicles-in-america-every-vehicle-ranked/\" itemprop=\"url\" rel=\"bookmark\">\n",
       " \t\t\t\t\tSeptember 2018 – The Best-Selling Vehicles In America – Every Vehicle Ranked\t\t\t\t</a>,\n",
       " <a class=\"vw-post-box__link\" href=\"http://www.goodcarbadcar.net/2018/09/august-2018-the-best-selling-vehicles-in-canada-every-vehicle-ranked/\" itemprop=\"url\" rel=\"bookmark\">\n",
       " \t\t\t\t\tAugust 2018 – The Best-Selling Vehicles In Canada – Every Vehicle Ranked\t\t\t\t</a>,\n",
       " <a class=\"vw-post-box__link\" href=\"http://www.goodcarbadcar.net/2018/09/august-2018-the-best-selling-vehicles-in-america-every-vehicle-ranked/\" itemprop=\"url\" rel=\"bookmark\">\n",
       " \t\t\t\t\tAugust 2018 – The Best-Selling Vehicles In America – Every Vehicle Ranked\t\t\t\t</a>,\n",
       " <a class=\"vw-post-box__link\" href=\"http://www.goodcarbadcar.net/2018/08/july-2018-the-best-selling-vehicles-in-canada-every-vehicle-ranked/\" itemprop=\"url\" rel=\"bookmark\">\n",
       " \t\t\t\t\tJuly 2018 – The Best-Selling Vehicles In Canada – Every Vehicle Ranked\t\t\t\t</a>,\n",
       " <a class=\"vw-post-box__link\" href=\"http://www.goodcarbadcar.net/2018/08/july-2018-the-best-selling-vehicles-in-america-every-vehicle-ranked/\" itemprop=\"url\" rel=\"bookmark\">\n",
       " \t\t\t\t\tJuly 2018 – The Best-Selling Vehicles In America – Every Vehicle Ranked\t\t\t\t</a>,\n",
       " <a class=\"vw-post-box__link\" href=\"http://www.goodcarbadcar.net/2018/07/june-2018-the-best-selling-vehicles-in-canada-every-vehicle-ranked/\" itemprop=\"url\" rel=\"bookmark\">\n",
       " \t\t\t\t\tJune 2018 – The Best-Selling Vehicles In Canada – Every Vehicle Ranked\t\t\t\t</a>,\n",
       " <a class=\"vw-post-box__link\" href=\"http://www.goodcarbadcar.net/2018/07/june-2018-the-best-selling-vehicles-in-america-every-vehicle-ranked/\" itemprop=\"url\" rel=\"bookmark\">\n",
       " \t\t\t\t\tJune 2018 – The Best-Selling Vehicles In America – Every Vehicle Ranked\t\t\t\t</a>,\n",
       " <a class=\"vw-post-box__link\" href=\"http://www.goodcarbadcar.net/2018/06/may-2018-top-268-best-selling-vehicles-in-canada-every-vehicle-ranked/\" itemprop=\"url\" rel=\"bookmark\">\n",
       " \t\t\t\t\tMay 2018 – The Best-Selling Vehicles In Canada – Every Vehicle Ranked\t\t\t\t</a>,\n",
       " <a class=\"vw-post-box__link\" href=\"http://www.goodcarbadcar.net/2018/06/may-2018-ytd-u-s-vehicle-sales-rankings-the-best-selling-vehicles-in-america/\" itemprop=\"url\" rel=\"bookmark\">\n",
       " \t\t\t\t\tMay 2018 YTD U.S. Vehicle Sales Rankings – The Best-Selling Vehicles In America\t\t\t\t</a>,\n",
       " <a class=\"vw-post-box__link\" href=\"http://www.goodcarbadcar.net/2017/12/top-20-best-selling-luxury-vehicles-canada-november-2017/\" itemprop=\"url\" rel=\"bookmark\">\n",
       " \t\t\t\t\tTop 20 Best-Selling Luxury Vehicles In Canada – November 2017\t\t\t\t</a>,\n",
       " <a class=\"vw-post-box__link\" href=\"http://www.goodcarbadcar.net/2017/12/top-20-best-selling-luxury-vehicles-america-november-2017/\" itemprop=\"url\" rel=\"bookmark\">\n",
       " \t\t\t\t\tTop 20 Best-Selling Luxury Vehicles In America – November 2017\t\t\t\t</a>,\n",
       " <a class=\"vw-post-box__link\" href=\"http://www.goodcarbadcar.net/2017/11/top-20-best-selling-luxury-vehicles-canada-october-2017/\" itemprop=\"url\" rel=\"bookmark\">\n",
       " \t\t\t\t\tTop 20 Best-Selling Luxury Vehicles In Canada – October 2017\t\t\t\t</a>,\n",
       " <a class=\"vw-post-box__link\" href=\"http://www.goodcarbadcar.net/2017/11/top-20-best-selling-luxury-vehicles-america-october-2017/\" itemprop=\"url\" rel=\"bookmark\">\n",
       " \t\t\t\t\tTop 20 Best-Selling Luxury Vehicles In America – October 2017\t\t\t\t</a>,\n",
       " <a class=\"vw-post-box__link\" href=\"http://www.goodcarbadcar.net/2017/10/top-20-best-selling-luxury-vehicles-canada-september-2017/\" itemprop=\"url\" rel=\"bookmark\">\n",
       " \t\t\t\t\tTop 20 Best-Selling Luxury Vehicles In Canada – September 2017\t\t\t\t</a>,\n",
       " <a class=\"vw-post-box__link\" href=\"http://www.goodcarbadcar.net/2017/10/top-20-best-selling-luxury-vehicles-america-september-2017/\" itemprop=\"url\" rel=\"bookmark\">\n",
       " \t\t\t\t\tTop 20 Best-Selling Luxury Vehicles In America – September 2017\t\t\t\t</a>,\n",
       " <a class=\"vw-post-box__link\" href=\"http://www.goodcarbadcar.net/2017/09/top-20-best-selling-luxury-vehicles-canada-august-2017/\" itemprop=\"url\" rel=\"bookmark\">\n",
       " \t\t\t\t\tTop 20 Best-Selling Luxury Vehicles In Canada – August 2017\t\t\t\t</a>,\n",
       " <a class=\"vw-post-box__link\" href=\"http://www.goodcarbadcar.net/2017/09/top-20-best-selling-luxury-vehicles-america-august-2017/\" itemprop=\"url\" rel=\"bookmark\">\n",
       " \t\t\t\t\tTop 20 Best-Selling Luxury Vehicles In America – August 2017\t\t\t\t</a>,\n",
       " <a class=\"vw-post-box__link\" href=\"http://www.goodcarbadcar.net/2017/08/top-20-best-selling-luxury-vehicles-canada-july-2017/\" itemprop=\"url\" rel=\"bookmark\">\n",
       " \t\t\t\t\tTop 20 Best-Selling Luxury Vehicles In Canada – July 2017\t\t\t\t</a>,\n",
       " <a class=\"vw-post-box__link\" href=\"http://www.goodcarbadcar.net/2017/08/top-20-best-selling-luxury-vehicles-america-july-2017/\" itemprop=\"url\" rel=\"bookmark\">\n",
       " \t\t\t\t\tTop 20 Best-Selling Luxury Vehicles In America – July 2017\t\t\t\t</a>,\n",
       " <a class=\"vw-post-box__link\" href=\"http://www.goodcarbadcar.net/2017/06/top-20-best-selling-luxury-vehicles-in/\" itemprop=\"url\" rel=\"bookmark\">\n",
       " \t\t\t\t\tTop 20 Best-Selling Luxury Vehicles In Canada – May  2017\t\t\t\t</a>,\n",
       " <a class=\"vw-post-box__link\" href=\"http://www.goodcarbadcar.net/2017/06/top-15-best-selling-luxury-vehicles-in/\" itemprop=\"url\" rel=\"bookmark\">\n",
       " \t\t\t\t\tTop 20 Best-Selling Luxury Vehicles In America – May 2017\t\t\t\t</a>,\n",
       " <a class=\"vw-post-box__link\" href=\"http://www.goodcarbadcar.net/2017/10/top-20-worst-selling-vehicles-america-september-2017/\" itemprop=\"url\" rel=\"bookmark\">\n",
       " \t\t\t\t\tTop 20 Worst-Selling Vehicles In America – September 2017\t\t\t\t</a>,\n",
       " <a class=\"vw-post-box__link\" href=\"http://www.goodcarbadcar.net/2017/09/top-20-worst-selling-vehicles-canada-august-2017/\" itemprop=\"url\" rel=\"bookmark\">\n",
       " \t\t\t\t\tTop 20 Worst-Selling Vehicles In Canada – August 2017\t\t\t\t</a>,\n",
       " <a class=\"vw-post-box__link\" href=\"http://www.goodcarbadcar.net/2017/09/top-20-worst-selling-vehicles-america-august-2017/\" itemprop=\"url\" rel=\"bookmark\">\n",
       " \t\t\t\t\tTop 20 Worst-Selling Vehicles In America – August 2017\t\t\t\t</a>,\n",
       " <a class=\"vw-post-box__link\" href=\"http://www.goodcarbadcar.net/2017/08/top-20-worst-selling-vehicles-canada-july-2017/\" itemprop=\"url\" rel=\"bookmark\">\n",
       " \t\t\t\t\tTop 20 Worst-Selling Vehicles In Canada – July 2017\t\t\t\t</a>,\n",
       " <a class=\"vw-post-box__link\" href=\"http://www.goodcarbadcar.net/2017/08/top-20-worst-selling-vehicles-america-july-2017/\" itemprop=\"url\" rel=\"bookmark\">\n",
       " \t\t\t\t\tTop 20 Worst-Selling Vehicles In America – July 2017\t\t\t\t</a>,\n",
       " <a class=\"vw-post-box__link\" href=\"http://www.goodcarbadcar.net/2017/06/top-20-worst-selling-vehicles-in-canada/\" itemprop=\"url\" rel=\"bookmark\">\n",
       " \t\t\t\t\tTop 20 Worst-Selling Vehicles In Canada – May 2017\t\t\t\t</a>,\n",
       " <a class=\"vw-post-box__link\" href=\"http://www.goodcarbadcar.net/2017/05/canada-worst-selling-autos-april-2017/\" itemprop=\"url\" rel=\"bookmark\">\n",
       " \t\t\t\t\tTop 20 Worst-Selling Vehicles In Canada – April 2017\t\t\t\t</a>,\n",
       " <a class=\"vw-post-box__link\" href=\"http://www.goodcarbadcar.net/2017/05/usa-worst-selling-vehicles-april-2017/\" itemprop=\"url\" rel=\"bookmark\">\n",
       " \t\t\t\t\tTop 20 Worst-Selling Vehicles In America – April 2017\t\t\t\t</a>,\n",
       " <a class=\"vw-post-box__link\" href=\"http://www.goodcarbadcar.net/2017/04/canada-worst-selling-new-vehicles-march-2017/\" itemprop=\"url\" rel=\"bookmark\">\n",
       " \t\t\t\t\tTop 20 Worst-Selling Vehicles In Canada – March 2017\t\t\t\t</a>,\n",
       " <a class=\"vw-post-box__link\" href=\"http://www.goodcarbadcar.net/2017/04/usa-worst-selling-autos-march-2017-sales-stats/\" itemprop=\"url\" rel=\"bookmark\">\n",
       " \t\t\t\t\tTop 20 Worst-Selling Vehicles In America – March 2017\t\t\t\t</a>,\n",
       " <a class=\"vw-post-box__link\" href=\"http://www.goodcarbadcar.net/2017/03/canada-worst-selling-autos-february-2017/\" itemprop=\"url\" rel=\"bookmark\">\n",
       " \t\t\t\t\tTop 20 Worst-Selling Vehicles In Canada – February 2017\t\t\t\t</a>,\n",
       " <a class=\"vw-post-box__link\" href=\"http://www.goodcarbadcar.net/2017/03/usa-20-worst-selling-vehicles-february-2017/\" itemprop=\"url\" rel=\"bookmark\">\n",
       " \t\t\t\t\tTop 20 Worst-Selling Vehicles In America – February 2017\t\t\t\t</a>,\n",
       " <a class=\"vw-post-box__link\" href=\"http://www.goodcarbadcar.net/2019/05/midsize-suv-sales-in-america-april-2019/\" itemprop=\"url\" rel=\"bookmark\">\n",
       " \t\t\t\t\tMidsize SUV Sales in America – April 2019\t\t\t\t</a>,\n",
       " <a class=\"vw-post-box__link\" href=\"http://www.goodcarbadcar.net/2019/05/small-suv-sales-in-america-april-2019/\" itemprop=\"url\" rel=\"bookmark\">\n",
       " \t\t\t\t\tSmall SUV Sales In America – April 2019\t\t\t\t</a>,\n",
       " <a class=\"vw-post-box__link\" href=\"http://www.goodcarbadcar.net/2019/05/april-2019-the-best-selling-cars-in-canada-every-car-ranked/\" itemprop=\"url\" rel=\"bookmark\">\n",
       " \t\t\t\t\tApril 2019 – The Best-Selling Cars In Canada – Every Car Ranked\t\t\t\t</a>,\n",
       " <a class=\"vw-post-box__link\" href=\"http://www.goodcarbadcar.net/2019/05/april-2019-the-best-selling-vehicles-in-canada-every-vehicle-ranked/\" itemprop=\"url\" rel=\"bookmark\">\n",
       " \t\t\t\t\tApril 2019 – The Best-Selling Vehicles In Canada – Every Vehicle Ranked\t\t\t\t</a>,\n",
       " <a class=\"vw-post-box__link\" href=\"http://www.goodcarbadcar.net/2019/05/canada-auto-sales-brand-rankings-april-2019/\" itemprop=\"url\" rel=\"bookmark\">\n",
       " \t\t\t\t\tCanada Auto Sales Brand Rankings – April 2019\t\t\t\t</a>,\n",
       " <a class=\"vw-post-box__link\" href=\"http://www.goodcarbadcar.net/2019/05/large-car-sales-in-america-april-2019/\" itemprop=\"url\" rel=\"bookmark\">\n",
       " \t\t\t\t\tLarge Car Sales In America – April 2019\t\t\t\t</a>,\n",
       " <a class=\"vw-post-box__link\" href=\"http://www.goodcarbadcar.net/2019/05/midsize-car-sales-in-america-april-2019/\" itemprop=\"url\" rel=\"bookmark\">\n",
       " \t\t\t\t\tMidsize Car Sales In America – April 2019\t\t\t\t</a>,\n",
       " <a class=\"vw-post-box__link\" href=\"http://www.goodcarbadcar.net/2019/05/small-car-sales-in-america-april-2019/\" itemprop=\"url\" rel=\"bookmark\">\n",
       " \t\t\t\t\tSmall Car Sales In America – April 2019\t\t\t\t</a>,\n",
       " <a class=\"vw-post-box__link\" href=\"http://www.goodcarbadcar.net/2018/11/october-2018-ytd-u-s-suv-and-crossover-sales-rankings-every-suv-ranked/\" itemprop=\"url\" rel=\"bookmark\">\n",
       " \t\t\t\t\tOctober 2018 YTD U.S. SUV And Crossover Sales Rankings – Every SUV Ranked\t\t\t\t</a>,\n",
       " <a class=\"vw-post-box__link\" href=\"http://www.goodcarbadcar.net/2018/10/september-2018-canada-suv-sales-rankings-every-suv-ranked/\" itemprop=\"url\" rel=\"bookmark\">\n",
       " \t\t\t\t\tSeptember 2018 – Canada SUV Sales Rankings – Every SUV Ranked\t\t\t\t</a>,\n",
       " <a class=\"vw-post-box__link\" href=\"http://www.goodcarbadcar.net/2018/10/september-2018-ytd-u-s-suv-and-crossover-sales-rankings-every-suv-ranked/\" itemprop=\"url\" rel=\"bookmark\">\n",
       " \t\t\t\t\tSeptember 2018 YTD U.S. SUV And Crossover Sales Rankings – Every SUV Ranked\t\t\t\t</a>,\n",
       " <a class=\"vw-post-box__link\" href=\"http://www.goodcarbadcar.net/2018/09/august-2018-canada-suv-sales-rankings-every-suv-ranked/\" itemprop=\"url\" rel=\"bookmark\">\n",
       " \t\t\t\t\tAugust 2018 – Canada SUV Sales Rankings – Every SUV Ranked\t\t\t\t</a>,\n",
       " <a class=\"vw-post-box__link\" href=\"http://www.goodcarbadcar.net/2018/09/august-2018-ytd-u-s-suv-and-crossover-sales-rankings-every-suv-ranked/\" itemprop=\"url\" rel=\"bookmark\">\n",
       " \t\t\t\t\tAugust 2018 YTD U.S. SUV And Crossover Sales Rankings – Every SUV Ranked\t\t\t\t</a>,\n",
       " <a class=\"vw-post-box__link\" href=\"http://www.goodcarbadcar.net/2018/08/july-2018-canada-suv-sales-rankings-every-suv-ranked/\" itemprop=\"url\" rel=\"bookmark\">\n",
       " \t\t\t\t\tJuly 2018 – Canada SUV Sales Rankings – Every SUV Ranked\t\t\t\t</a>,\n",
       " <a class=\"vw-post-box__link\" href=\"http://www.goodcarbadcar.net/2018/08/july-2018-ytd-u-s-suv-and-crossover-sales-rankings-every-suv-ranked/\" itemprop=\"url\" rel=\"bookmark\">\n",
       " \t\t\t\t\tJuly 2018 YTD U.S. SUV And Crossover Sales Rankings – Every SUV Ranked\t\t\t\t</a>,\n",
       " <a class=\"vw-post-box__link\" href=\"http://www.goodcarbadcar.net/2018/07/june-2018-canada-suv-sales-rankings-every-suv-ranked/\" itemprop=\"url\" rel=\"bookmark\">\n",
       " \t\t\t\t\tJune 2018 Canada SUV Sales Rankings – Every SUV Ranked\t\t\t\t</a>,\n",
       " <a class=\"vw-post-box__link\" href=\"http://www.goodcarbadcar.net/2018/07/june-2018-ytd-u-s-suv-and-crossover-sales-rankings-every-suv-ranked/\" itemprop=\"url\" rel=\"bookmark\">\n",
       " \t\t\t\t\tJune 2018 YTD U.S. SUV And Crossover Sales Rankings – Every SUV Ranked\t\t\t\t</a>,\n",
       " <a class=\"vw-post-box__link\" href=\"http://www.goodcarbadcar.net/2018/06/may-2018-canada-suv-sales-rankings-top-110-best-selling-suvs-in-canada-every-suv-ranked/\" itemprop=\"url\" rel=\"bookmark\">\n",
       " \t\t\t\t\tMay 2018 Canada SUV Sales Rankings – Top 110 Best-Selling SUVs In Canada – Every SUV Ranked\t\t\t\t</a>,\n",
       " <a class=\"vw-post-box__link\" href=\"http://www.goodcarbadcar.net/2018/06/may-2018-ytd-u-s-suv-and-crossover-sales-rankings-top-110-best-selling-suvs-in-america-every-suv-ranked/\" itemprop=\"url\" rel=\"bookmark\">\n",
       " \t\t\t\t\tMay 2018 YTD U.S. SUV And Crossover Sales Rankings – Top 110 Best-Selling SUVs In America – Every SUV Ranked\t\t\t\t</a>,\n",
       " <a class=\"vw-post-box__link\" href=\"http://www.goodcarbadcar.net/2018/05/april-2018-canada-suv-sales-rankings-top-110-best-selling-suvs-in-canada-every-suv-ranked/\" itemprop=\"url\" rel=\"bookmark\">\n",
       " \t\t\t\t\tApril 2018 Canada SUV Sales Rankings – Top 110 Best-Selling SUVs In Canada – Every SUV Ranked\t\t\t\t</a>,\n",
       " <a class=\"vw-post-box__link\" href=\"http://www.goodcarbadcar.net/2019/05/large-car-sales-in-america-april-2019/\" itemprop=\"url\" rel=\"bookmark\">\n",
       " \t\t\t\t\tLarge Car Sales In America – April 2019\t\t\t\t</a>,\n",
       " <a class=\"vw-post-box__link\" href=\"http://www.goodcarbadcar.net/2019/05/midsize-car-sales-in-america-april-2019/\" itemprop=\"url\" rel=\"bookmark\">\n",
       " \t\t\t\t\tMidsize Car Sales In America – April 2019\t\t\t\t</a>,\n",
       " <a class=\"vw-post-box__link\" href=\"http://www.goodcarbadcar.net/2019/05/small-car-sales-in-america-april-2019/\" itemprop=\"url\" rel=\"bookmark\">\n",
       " \t\t\t\t\tSmall Car Sales In America – April 2019\t\t\t\t</a>,\n",
       " <a class=\"vw-post-box__link\" href=\"http://www.goodcarbadcar.net/2019/05/april-2019-the-best-selling-commercial-vans-in-america/\" itemprop=\"url\" rel=\"bookmark\">\n",
       " \t\t\t\t\tApril 2019 – The Best-Selling Commercial Vans In America\t\t\t\t</a>,\n",
       " <a class=\"vw-post-box__link\" href=\"http://www.goodcarbadcar.net/2019/05/april-2019-the-best-selling-minivans-in-america/\" itemprop=\"url\" rel=\"bookmark\">\n",
       " \t\t\t\t\tApril 2019 – The Best-Selling Minivans In America\t\t\t\t</a>,\n",
       " <a class=\"vw-post-box__link\" href=\"http://www.goodcarbadcar.net/2019/05/april-2019-the-best-selling-suvs-in-america-every-suv-ranked/\" itemprop=\"url\" rel=\"bookmark\">\n",
       " \t\t\t\t\tApril 2019 – The Best-Selling SUVs In America – Every SUV Ranked\t\t\t\t</a>,\n",
       " <a class=\"vw-post-box__link\" href=\"http://www.goodcarbadcar.net/2019/05/april-2019-the-best-selling-cars-in-america-every-car-ranked/\" itemprop=\"url\" rel=\"bookmark\">\n",
       " \t\t\t\t\tApril 2019 – The Best-Selling Cars In America – Every Car Ranked\t\t\t\t</a>,\n",
       " <a class=\"vw-post-box__link\" href=\"http://www.goodcarbadcar.net/2019/05/best-selling-pickup-trucks-in-america-april-2019/\" itemprop=\"url\" rel=\"bookmark\">\n",
       " \t\t\t\t\tBest-Selling Pickup Trucks In America – April 2019\t\t\t\t</a>,\n",
       " <a class=\"vw-post-box__link\" href=\"http://www.goodcarbadcar.net/2019/05/april-2019-the-best-selling-vehicles-in-america-every-vehicle-ranked/\" itemprop=\"url\" rel=\"bookmark\">\n",
       " \t\t\t\t\tApril 2019 – The Best-Selling Vehicles In America – Every Vehicle Ranked\t\t\t\t</a>,\n",
       " <a class=\"vw-post-box__link\" href=\"http://www.goodcarbadcar.net/2019/04/sports-car-sales-in-canada-march-2019/\" itemprop=\"url\" rel=\"bookmark\">\n",
       " \t\t\t\t\tSports Car Sales in Canada – March 2019\t\t\t\t</a>,\n",
       " <a class=\"vw-post-box__link\" href=\"http://www.goodcarbadcar.net/2019/04/large-luxury-suv-sales-in-canada-march-2019/\" itemprop=\"url\" rel=\"bookmark\">\n",
       " \t\t\t\t\tLarge Luxury SUV Sales In Canada – March 2019\t\t\t\t</a>,\n",
       " <a class=\"vw-post-box__link\" href=\"http://www.goodcarbadcar.net/2019/04/small-and-midsize-luxury-suv-sales-in-canada-march-2019/\" itemprop=\"url\" rel=\"bookmark\">\n",
       " \t\t\t\t\tSmall And Midsize Luxury SUV Sales In Canada – March 2019\t\t\t\t</a>,\n",
       " <a class=\"vw-post-box__link\" href=\"http://www.goodcarbadcar.net/2012/12/uk-best-selling-cars-november-2012/\" itemprop=\"url\" rel=\"bookmark\">\n",
       " \t\t\t\t\tNovember 2012 Top 10 Best-Selling Cars In The United Kingdom\t\t\t\t</a>,\n",
       " <a class=\"vw-post-box__link\" href=\"http://www.goodcarbadcar.net/2012/11/uk-october-2012-best-selling-cars/\" itemprop=\"url\" rel=\"bookmark\">\n",
       " \t\t\t\t\tOctober 2012 Top 10 Best-Selling Cars In The United Kingdom\t\t\t\t</a>,\n",
       " <a class=\"vw-post-box__link\" href=\"http://www.goodcarbadcar.net/2012/10/september-2012-uk-best-selling-cars/\" itemprop=\"url\" rel=\"bookmark\">\n",
       " \t\t\t\t\tSeptember 2012 Top 10 Best-Selling Cars In The United Kingdom\t\t\t\t</a>,\n",
       " <a class=\"vw-post-box__link\" href=\"http://www.goodcarbadcar.net/2012/09/august-2012-uk-best-selling-cars/\" itemprop=\"url\" rel=\"bookmark\">\n",
       " \t\t\t\t\tAugust 2012 Top 10 Best-Selling Cars In The United Kingdom\t\t\t\t</a>,\n",
       " <a class=\"vw-post-box__link\" href=\"http://www.goodcarbadcar.net/2012/08/uk-july-2012-best-selling-cars/\" itemprop=\"url\" rel=\"bookmark\">\n",
       " \t\t\t\t\tJuly 2012 Top 10 Best-Selling Cars In The United Kingdom\t\t\t\t</a>,\n",
       " <a class=\"vw-post-box__link\" href=\"http://www.goodcarbadcar.net/2012/07/june-2012-uk-best-selling-cars/\" itemprop=\"url\" rel=\"bookmark\">\n",
       " \t\t\t\t\tJune 2012 Top 10 Best-Selling Cars In The United Kingdom\t\t\t\t</a>,\n",
       " <a class=\"vw-post-box__link\" href=\"http://www.goodcarbadcar.net/2012/06/uk-best-selling-cars-may-2012/\" itemprop=\"url\" rel=\"bookmark\">\n",
       " \t\t\t\t\tTop 10 Best-Selling Cars In The United Kingdom – May 2012\t\t\t\t</a>,\n",
       " <a class=\"vw-post-box__link\" href=\"http://www.goodcarbadcar.net/2012/05/uk-best-selling-cars-april-2012/\" itemprop=\"url\" rel=\"bookmark\">\n",
       " \t\t\t\t\tTop 10 Best-Selling Cars In The United Kingdom – April 2012\t\t\t\t</a>,\n",
       " <a class=\"vw-post-box__link\" href=\"http://www.goodcarbadcar.net/2012/04/uk-best-selling-cars-march-2012/\" itemprop=\"url\" rel=\"bookmark\">\n",
       " \t\t\t\t\tTop 10 Best-Selling Cars In The United Kingdom – March 2012\t\t\t\t</a>,\n",
       " <a class=\"vw-post-box__link\" href=\"http://www.goodcarbadcar.net/2012/03/top-10-best-selling-cars-in-united/\" itemprop=\"url\" rel=\"bookmark\">\n",
       " \t\t\t\t\tTop 10 Best-Selling Cars In The United Kingdom – February 2012\t\t\t\t</a>,\n",
       " <a class=\"vw-post-box__link\" href=\"http://www.goodcarbadcar.net/2012/02/uk-best-selling-cars-january-2012/\" itemprop=\"url\" rel=\"bookmark\">\n",
       " \t\t\t\t\tTop 10 Best-Selling Cars In The United Kingdom – January 2012\t\t\t\t</a>,\n",
       " <a class=\"vw-post-box__link\" href=\"http://www.goodcarbadcar.net/2012/01/uk-best-selling-cars-2011-year-end/\" itemprop=\"url\" rel=\"bookmark\">\n",
       " \t\t\t\t\tTop 10 Best-Selling Cars In The United Kingdom – 2011 Year End\t\t\t\t</a>]"
      ]
     },
     "execution_count": 39,
     "metadata": {},
     "output_type": "execute_result"
    }
   ],
   "source": [
    "websites"
   ]
  },
  {
   "cell_type": "code",
   "execution_count": 40,
   "metadata": {},
   "outputs": [
    {
     "data": {
      "text/plain": [
       "'http://www.goodcarbadcar.net/2018/04/top-20-best-selling-cars-in-canada-march-2018/'"
      ]
     },
     "execution_count": 40,
     "metadata": {},
     "output_type": "execute_result"
    }
   ],
   "source": [
    "websites[0].get('href')"
   ]
  },
  {
   "cell_type": "code",
   "execution_count": 47,
   "metadata": {},
   "outputs": [],
   "source": [
    "url = 'http://www.goodcarbadcar.net/best-sellers/page/'\n",
    "suffix = '/'"
   ]
  },
  {
   "cell_type": "code",
   "execution_count": 48,
   "metadata": {},
   "outputs": [],
   "source": [
    "for i in range(1,31):\n",
    "    links = []\n",
    "    website = url + str(i) + suffix\n",
    "    r = requests.get(website)\n",
    "    html = r.text\n",
    "    soup = BeautifulSoup(html, 'html.parser')\n",
    "    websites = soup.findAll('a' ,{'class':'vw-post-box__link'})\n",
    "    for i in range(0, len(websites)-1):\n",
    "        links.append(websites[i].get('href'))"
   ]
  },
  {
   "cell_type": "code",
   "execution_count": 51,
   "metadata": {},
   "outputs": [
    {
     "data": {
      "text/plain": [
       "['http://www.goodcarbadcar.net/2011/12/canada-best-selling-vehicles-november/',\n",
       " 'http://www.goodcarbadcar.net/2011/12/us-best-selling-vehicles-november-2011/',\n",
       " 'http://www.goodcarbadcar.net/2011/11/us-best-selling-cars-2004/',\n",
       " 'http://www.goodcarbadcar.net/2011/11/america-best-selling-cars-2003/',\n",
       " 'http://www.goodcarbadcar.net/2011/11/us-best-selling-cars-2002/',\n",
       " 'http://www.goodcarbadcar.net/2011/11/canada-best-selling-vehicles-october/',\n",
       " 'http://www.goodcarbadcar.net/2011/11/us-best-selling-vehicles-october-2011/',\n",
       " 'http://www.goodcarbadcar.net/2011/10/canada-best-selling-vehicles-september/',\n",
       " 'http://www.goodcarbadcar.net/2011/10/us-20-best-selling-vehicles-september/',\n",
       " 'http://www.goodcarbadcar.net/2011/07/canada-100-best-selling-vehicles-2011/',\n",
       " 'http://www.goodcarbadcar.net/2011/07/best-selling-cars-2011-usa-year-to-date/',\n",
       " 'http://www.goodcarbadcar.net/2018/10/midsize-car-sales-in-canada-september-2018/',\n",
       " 'http://www.goodcarbadcar.net/2018/10/small-car-sales-in-canada-september-2018/',\n",
       " 'http://www.goodcarbadcar.net/2018/10/minivan-sales-in-canada-september-2018/',\n",
       " 'http://www.goodcarbadcar.net/2018/10/top-11-best-selling-pickup-trucks-in-canada-september-2018/',\n",
       " 'http://www.goodcarbadcar.net/2018/10/september-2018-canada-suv-sales-rankings-every-suv-ranked/',\n",
       " 'http://www.goodcarbadcar.net/2018/10/large-luxury-suv-sales-in-america-september-2018/',\n",
       " 'http://www.goodcarbadcar.net/2018/10/september-2018-canada-passenger-car-sales-rankings-the-best-selling-cars-in-canada-every-car-ranked/',\n",
       " 'http://www.goodcarbadcar.net/2018/10/september-2018-the-best-selling-vehicles-in-canada-every-vehicle-ranked/',\n",
       " 'http://www.goodcarbadcar.net/2018/07/commercial-van-sales-in-america-june-2018/',\n",
       " 'http://www.goodcarbadcar.net/2018/07/minivan-sales-in-america-june-2018/',\n",
       " 'http://www.goodcarbadcar.net/2018/07/best-selling-pickup-trucks-in-america-june-2018/',\n",
       " 'http://www.goodcarbadcar.net/2018/07/june-2018-ytd-u-s-suv-and-crossover-sales-rankings-every-suv-ranked/',\n",
       " 'http://www.goodcarbadcar.net/2018/07/june-2018-ytd-u-s-passenger-car-sales-rankings-best-selling-cars-in-america/',\n",
       " 'http://www.goodcarbadcar.net/2018/07/june-2018-the-best-selling-vehicles-in-america-every-vehicle-ranked/',\n",
       " 'http://www.goodcarbadcar.net/2018/06/sporty-car-sales-in-canada-may-2018/',\n",
       " 'http://www.goodcarbadcar.net/2018/06/large-luxury-suv-sales-in-canada-may-2018/',\n",
       " 'http://www.goodcarbadcar.net/2018/06/small-and-midsize-luxury-suv-sales-in-canada-may-2018/',\n",
       " 'http://www.goodcarbadcar.net/2018/06/small-and-midsize-luxury-car-sales-in-canada-may-2018/',\n",
       " 'http://www.goodcarbadcar.net/2018/06/large-suv-sales-in-canada-may-2018/']"
      ]
     },
     "execution_count": 51,
     "metadata": {},
     "output_type": "execute_result"
    }
   ],
   "source": [
    "links"
   ]
  },
  {
   "cell_type": "code",
   "execution_count": 52,
   "metadata": {},
   "outputs": [],
   "source": [
    "site = 'http://www.goodcarbadcar.net/best-sellers/page/'"
   ]
  },
  {
   "cell_type": "code",
   "execution_count": 53,
   "metadata": {},
   "outputs": [],
   "source": [
    "def webpage_finder(url):\n",
    "    webpages = []\n",
    "    for i in range(1,31):\n",
    "        website = url + str(i) + '/'\n",
    "        soup = request(website)\n",
    "        websites = soup.findAll('a' ,{'class':'vw-post-box__link'})\n",
    "        for i in range(0, len(websites)-1):\n",
    "            webpages.append(websites[i].get('href'))\n",
    "    return webpages"
   ]
  },
  {
   "cell_type": "code",
   "execution_count": 55,
   "metadata": {},
   "outputs": [],
   "source": [
    "import requests\n",
    "import re\n",
    "import csv\n",
    "from bs4 import BeautifulSoup\n",
    "\n",
    "#url = 'http://www.goodcarbadcar.net/2019/05/april-2019-the-best-selling-vehicles-in-america-every-vehicle-ranked/'\n",
    "\n",
    "site = 'http://www.goodcarbadcar.net/best-sellers/page/'\n",
    "\n",
    "def request(webpage):\n",
    "    r = requests.get(webpage)\n",
    "    html_text = r.text\n",
    "    soup = BeautifulSoup(html_text, 'html.parser')\n",
    "    return soup"
   ]
  },
  {
   "cell_type": "code",
   "execution_count": 56,
   "metadata": {},
   "outputs": [],
   "source": [
    "listy = webpage_finder(site)"
   ]
  },
  {
   "cell_type": "code",
   "execution_count": 58,
   "metadata": {},
   "outputs": [
    {
     "data": {
      "text/plain": [
       "['http://www.goodcarbadcar.net/2019/01/the-5-best-selling-used-car-models-of-2018-according-to-used-dealers/',\n",
       " 'http://www.goodcarbadcar.net/2018/10/top-20-best-selling-cars-in-canada-september-2018/',\n",
       " 'http://www.goodcarbadcar.net/2018/10/top-20-best-selling-cars-in-america-september-2018/',\n",
       " 'http://www.goodcarbadcar.net/2018/09/top-20-best-selling-cars-in-canada-august-2018/',\n",
       " 'http://www.goodcarbadcar.net/2018/09/top-20-best-selling-cars-in-america-august-2018/',\n",
       " 'http://www.goodcarbadcar.net/2018/08/top-20-best-selling-cars-in-canada-july-2018/',\n",
       " 'http://www.goodcarbadcar.net/2018/08/top-20-best-selling-cars-in-america-july-2018/',\n",
       " 'http://www.goodcarbadcar.net/2018/07/top-20-best-selling-cars-in-canada-june-2018/',\n",
       " 'http://www.goodcarbadcar.net/2018/07/top-20-best-selling-cars-in-america-june-2018/',\n",
       " 'http://www.goodcarbadcar.net/2018/06/top-20-best-selling-cars-in-canada-may-2018/',\n",
       " 'http://www.goodcarbadcar.net/2018/06/top-20-best-selling-cars-in-america-may-2018/',\n",
       " 'http://www.goodcarbadcar.net/2018/05/top-20-best-selling-cars-in-america-april-2018/',\n",
       " 'http://www.goodcarbadcar.net/2018/10/top-20-best-selling-suvs-in-canada-september-2018/',\n",
       " 'http://www.goodcarbadcar.net/2018/10/top-20-best-selling-suvs-in-america-september-2018/',\n",
       " 'http://www.goodcarbadcar.net/2018/09/top-20-best-selling-suvs-in-canada-august-2018/',\n",
       " 'http://www.goodcarbadcar.net/2018/09/top-20-best-selling-suvs-in-america-august-2018/',\n",
       " 'http://www.goodcarbadcar.net/2018/08/top-20-best-selling-suvs-in-canada-july-2018/',\n",
       " 'http://www.goodcarbadcar.net/2018/08/top-20-best-selling-suvs-in-america-july-2018/',\n",
       " 'http://www.goodcarbadcar.net/2018/07/top-20-best-selling-suvs-in-canada-june-2018/',\n",
       " 'http://www.goodcarbadcar.net/2018/07/top-20-best-selling-suvs-in-america-june-2018/',\n",
       " 'http://www.goodcarbadcar.net/2018/06/top-20-best-selling-suvs-in-canada-may-2018/',\n",
       " 'http://www.goodcarbadcar.net/2018/06/top-20-best-selling-suvs-in-america-may-2018/',\n",
       " 'http://www.goodcarbadcar.net/2018/05/top-20-best-selling-suvs-in-america-april-2018/',\n",
       " 'http://www.goodcarbadcar.net/2018/04/top-20-best-selling-suvs-in-canada-march-2018/',\n",
       " 'http://www.goodcarbadcar.net/2018/11/best-selling-pickup-trucks-in-america-october-2018/',\n",
       " 'http://www.goodcarbadcar.net/2018/10/best-selling-pickup-trucks-in-america-september-2018/',\n",
       " 'http://www.goodcarbadcar.net/2018/09/best-selling-pickup-trucks-in-america-august-2018/',\n",
       " 'http://www.goodcarbadcar.net/2018/08/best-selling-pickup-trucks-in-america-july-2018/',\n",
       " 'http://www.goodcarbadcar.net/2018/07/best-selling-pickup-trucks-in-america-june-2018/',\n",
       " 'http://www.goodcarbadcar.net/2018/06/best-selling-pickup-trucks-in-america-may-2018/',\n",
       " 'http://www.goodcarbadcar.net/2018/05/best-selling-pickup-trucks-in-america-april-2018/',\n",
       " 'http://www.goodcarbadcar.net/2018/04/top-11-best-selling-pickup-trucks-in-america-march-2018/',\n",
       " 'http://www.goodcarbadcar.net/2018/03/top-11-best-selling-pickup-trucks-canada-february-2018/',\n",
       " 'http://www.goodcarbadcar.net/2018/03/top-11-best-selling-pickup-trucks-america-february-2018/',\n",
       " 'http://www.goodcarbadcar.net/2018/02/top-11-best-selling-pickup-trucks-canada-january-2018/',\n",
       " 'http://www.goodcarbadcar.net/2018/02/top-11-best-selling-pickup-trucks-america-january-2018/',\n",
       " 'http://www.goodcarbadcar.net/2019/03/february-2019-the-best-selling-vehicles-in-canada-every-vehicle-ranked/',\n",
       " 'http://www.goodcarbadcar.net/2019/03/february-2019-the-best-selling-vehicles-in-america-every-vehicle-ranked/',\n",
       " 'http://www.goodcarbadcar.net/2019/02/january-2019-the-best-selling-vehicles-in-canada-every-vehicle-ranked/',\n",
       " 'http://www.goodcarbadcar.net/2019/02/january-2019-the-best-selling-vehicles-in-america-every-vehicle-ranked/',\n",
       " 'http://www.goodcarbadcar.net/2019/01/december-2018-the-best-selling-vehicles-in-canada-every-vehicle-ranked/',\n",
       " 'http://www.goodcarbadcar.net/2019/01/december-2018-the-best-selling-vehicles-in-america-every-vehicle-ranked/',\n",
       " 'http://www.goodcarbadcar.net/2018/12/november-2018-the-best-selling-vehicles-in-canada-every-vehicle-ranked/',\n",
       " 'http://www.goodcarbadcar.net/2018/12/november-2018-the-best-selling-vehicles-in-america-every-vehicle-ranked/',\n",
       " 'http://www.goodcarbadcar.net/2018/11/october-2018-the-best-selling-vehicles-in-canada-every-vehicle-ranked/',\n",
       " 'http://www.goodcarbadcar.net/2018/11/october-2018-the-best-selling-vehicles-in-america-every-vehicle-ranked/',\n",
       " 'http://www.goodcarbadcar.net/2018/10/top-30-best-selling-vehicles-in-canada-september-2018/',\n",
       " 'http://www.goodcarbadcar.net/2018/10/september-2018-the-best-selling-vehicles-in-canada-every-vehicle-ranked/',\n",
       " 'http://www.goodcarbadcar.net/2019/05/april-2019-the-best-selling-vehicles-in-canada-every-vehicle-ranked/',\n",
       " 'http://www.goodcarbadcar.net/2019/05/april-2019-the-best-selling-vehicles-in-america-every-vehicle-ranked/',\n",
       " 'http://www.goodcarbadcar.net/2019/04/march-2019-the-best-selling-vehicles-in-canada-every-vehicle-ranked/',\n",
       " 'http://www.goodcarbadcar.net/2019/04/march-2019-the-best-selling-vehicles-in-america-every-vehicle-ranked/',\n",
       " 'http://www.goodcarbadcar.net/2019/03/february-2019-the-best-selling-vehicles-in-canada-every-vehicle-ranked/',\n",
       " 'http://www.goodcarbadcar.net/2019/03/february-2019-the-best-selling-vehicles-in-america-every-vehicle-ranked/',\n",
       " 'http://www.goodcarbadcar.net/2019/02/january-2019-the-best-selling-vehicles-in-canada-every-vehicle-ranked/',\n",
       " 'http://www.goodcarbadcar.net/2019/02/january-2019-the-best-selling-vehicles-in-america-every-vehicle-ranked/',\n",
       " 'http://www.goodcarbadcar.net/2019/01/december-2018-the-best-selling-vehicles-in-canada-every-vehicle-ranked/',\n",
       " 'http://www.goodcarbadcar.net/2019/01/december-2018-the-best-selling-vehicles-in-america-every-vehicle-ranked/',\n",
       " 'http://www.goodcarbadcar.net/2018/12/november-2018-the-best-selling-vehicles-in-canada-every-vehicle-ranked/',\n",
       " 'http://www.goodcarbadcar.net/2018/12/november-2018-the-best-selling-vehicles-in-america-every-vehicle-ranked/']"
      ]
     },
     "execution_count": 58,
     "metadata": {},
     "output_type": "execute_result"
    }
   ],
   "source": [
    "listy[0:60]"
   ]
  },
  {
   "cell_type": "code",
   "execution_count": 132,
   "metadata": {},
   "outputs": [],
   "source": [
    "def delete_bads(urls):\n",
    "    bad_words = ['anada', 'minivan', 'truck', 'top', 'ytd', 'britain', 'suv', 'luxury', 'cars',\n",
    "                 'uk', 'sport', 'used', 'small', 'midsize', 'worst', 'large', 'commercial', \n",
    "                 '25-best', '30-best', 'sporty', 'japan', 'trash']\n",
    "    blacklist = re.compile('|'.join([re.escape(word) for word in bad_words]))\n",
    "    revised_urls = [word for word in urls if not blacklist.search(word)]\n",
    "    return revised_urls"
   ]
  },
  {
   "cell_type": "code",
   "execution_count": 133,
   "metadata": {},
   "outputs": [],
   "source": [
    "revised = delete_bads(listy)"
   ]
  },
  {
   "cell_type": "code",
   "execution_count": 134,
   "metadata": {},
   "outputs": [
    {
     "data": {
      "text/plain": [
       "(127, 2484)"
      ]
     },
     "execution_count": 134,
     "metadata": {},
     "output_type": "execute_result"
    }
   ],
   "source": [
    "len(revised), len(listy)"
   ]
  },
  {
   "cell_type": "code",
   "execution_count": 135,
   "metadata": {},
   "outputs": [
    {
     "data": {
      "text/plain": [
       "['http://www.goodcarbadcar.net/2019/03/february-2019-the-best-selling-vehicles-in-america-every-vehicle-ranked/',\n",
       " 'http://www.goodcarbadcar.net/2019/02/january-2019-the-best-selling-vehicles-in-america-every-vehicle-ranked/',\n",
       " 'http://www.goodcarbadcar.net/2019/01/december-2018-the-best-selling-vehicles-in-america-every-vehicle-ranked/',\n",
       " 'http://www.goodcarbadcar.net/2018/12/november-2018-the-best-selling-vehicles-in-america-every-vehicle-ranked/',\n",
       " 'http://www.goodcarbadcar.net/2018/11/october-2018-the-best-selling-vehicles-in-america-every-vehicle-ranked/',\n",
       " 'http://www.goodcarbadcar.net/2019/05/april-2019-the-best-selling-vehicles-in-america-every-vehicle-ranked/',\n",
       " 'http://www.goodcarbadcar.net/2019/04/march-2019-the-best-selling-vehicles-in-america-every-vehicle-ranked/',\n",
       " 'http://www.goodcarbadcar.net/2019/03/february-2019-the-best-selling-vehicles-in-america-every-vehicle-ranked/',\n",
       " 'http://www.goodcarbadcar.net/2019/02/january-2019-the-best-selling-vehicles-in-america-every-vehicle-ranked/',\n",
       " 'http://www.goodcarbadcar.net/2019/01/december-2018-the-best-selling-vehicles-in-america-every-vehicle-ranked/',\n",
       " 'http://www.goodcarbadcar.net/2018/12/november-2018-the-best-selling-vehicles-in-america-every-vehicle-ranked/',\n",
       " 'http://www.goodcarbadcar.net/2018/10/september-2018-the-best-selling-vehicles-in-america-every-vehicle-ranked/',\n",
       " 'http://www.goodcarbadcar.net/2018/09/august-2018-the-best-selling-vehicles-in-america-every-vehicle-ranked/',\n",
       " 'http://www.goodcarbadcar.net/2018/08/july-2018-the-best-selling-vehicles-in-america-every-vehicle-ranked/',\n",
       " 'http://www.goodcarbadcar.net/2018/11/october-2018-the-best-selling-vehicles-in-america-every-vehicle-ranked/',\n",
       " 'http://www.goodcarbadcar.net/2018/10/september-2018-the-best-selling-vehicles-in-america-every-vehicle-ranked/',\n",
       " 'http://www.goodcarbadcar.net/2018/09/august-2018-the-best-selling-vehicles-in-america-every-vehicle-ranked/',\n",
       " 'http://www.goodcarbadcar.net/2018/08/july-2018-the-best-selling-vehicles-in-america-every-vehicle-ranked/',\n",
       " 'http://www.goodcarbadcar.net/2018/07/june-2018-the-best-selling-vehicles-in-america-every-vehicle-ranked/',\n",
       " 'http://www.goodcarbadcar.net/2019/05/april-2019-the-best-selling-vehicles-in-america-every-vehicle-ranked/',\n",
       " 'http://www.goodcarbadcar.net/2018/07/june-2018-the-best-selling-vehicles-in-america-every-vehicle-ranked/',\n",
       " 'http://www.goodcarbadcar.net/2019/05/april-2019-the-best-selling-vehicles-in-america-every-vehicle-ranked/',\n",
       " 'http://www.goodcarbadcar.net/2017/03/february-2017-usa-auto-sales-results-by-model-make/',\n",
       " 'http://www.goodcarbadcar.net/2017/02/january-2017-usa-vehicle-sales-rankings-by-mode/',\n",
       " 'http://www.goodcarbadcar.net/2017/01/usa-2016-vehicle-sales-by-model-manufacturer-brand/',\n",
       " 'http://www.goodcarbadcar.net/2019/04/march-2019-the-best-selling-vehicles-in-america-every-vehicle-ranked/',\n",
       " 'http://www.goodcarbadcar.net/2016/11/october-2016-usa-vehicle-sales-by-model-rankings/',\n",
       " 'http://www.goodcarbadcar.net/2016/10/usa-september-2016-new-vehicle-sales-by-model-brand-manufacturer/',\n",
       " 'http://www.goodcarbadcar.net/2016/09/usa-august-2016-auto-sales-by-model-brand/',\n",
       " 'http://www.goodcarbadcar.net/2016/07/usa-vehicle-sales-by-model-june-2016-first-half/',\n",
       " 'http://www.goodcarbadcar.net/2017/03/february-2017-usa-auto-sales-results-by-model-make/',\n",
       " 'http://www.goodcarbadcar.net/2017/02/january-2017-usa-vehicle-sales-rankings-by-mode/',\n",
       " 'http://www.goodcarbadcar.net/2016/04/usa-march-2016-q1-new-vehicle-sales-by-mode/',\n",
       " 'http://www.goodcarbadcar.net/2016/02/usa-january-2016-vehicle-sales-rankings-by-mode/',\n",
       " 'http://www.goodcarbadcar.net/2016/01/usa-vehicle-sales-by-model-2015-calendar-year-december/',\n",
       " 'http://www.goodcarbadcar.net/2017/01/usa-2016-vehicle-sales-by-model-manufacturer-brand/',\n",
       " 'http://www.goodcarbadcar.net/2016/11/october-2016-usa-vehicle-sales-by-model-rankings/',\n",
       " 'http://www.goodcarbadcar.net/2019/04/march-2019-the-best-selling-vehicles-in-america-every-vehicle-ranked/',\n",
       " 'http://www.goodcarbadcar.net/2019/03/february-2019-the-best-selling-vehicles-in-america-every-vehicle-ranked/',\n",
       " 'http://www.goodcarbadcar.net/2016/10/usa-september-2016-new-vehicle-sales-by-model-brand-manufacturer/',\n",
       " 'http://www.goodcarbadcar.net/2016/09/usa-august-2016-auto-sales-by-model-brand/',\n",
       " 'http://www.goodcarbadcar.net/2015/03/usa-february-2015-new-vehicle-sales-figures-by-model-make/',\n",
       " 'http://www.goodcarbadcar.net/2015/02/complete-january-2015-auto-sales-figures-every-model-and-brand/',\n",
       " 'http://www.goodcarbadcar.net/2015/02/january-2015-usa-auto-sales-results-by-model-and-make/',\n",
       " 'http://www.goodcarbadcar.net/2015/01/2014-complete-canadian-auto-sales-rankings-by-make-mode/',\n",
       " 'http://www.goodcarbadcar.net/2015/01/2014-usa-new-vehicle-sales-figures-by-mode/',\n",
       " 'http://www.goodcarbadcar.net/2014/12/usa-november-2014-vehicle-sales-figures-by-mode/',\n",
       " 'http://www.goodcarbadcar.net/2016/07/usa-vehicle-sales-by-model-june-2016-first-half/',\n",
       " 'http://www.goodcarbadcar.net/2016/04/usa-march-2016-q1-new-vehicle-sales-by-mode/',\n",
       " 'http://www.goodcarbadcar.net/2016/02/usa-january-2016-vehicle-sales-rankings-by-mode/',\n",
       " 'http://www.goodcarbadcar.net/2014/04/march-2014-usa-auto-sales-make-and-model-all-vehicles-ranked/',\n",
       " 'http://www.goodcarbadcar.net/2014/03/february-2014-usa-auto-sales-make-and-model-all-vehicles-ranked/',\n",
       " 'http://www.goodcarbadcar.net/2014/02/january-2014-usa-vehicle-sales-rankings-by-mode/',\n",
       " 'http://www.goodcarbadcar.net/2014/01/usa-vehicle-sales-rankings-by-model-december-2013-year-end/',\n",
       " 'http://www.goodcarbadcar.net/2019/02/january-2019-the-best-selling-vehicles-in-america-every-vehicle-ranked/',\n",
       " 'http://www.goodcarbadcar.net/2014/04/usa-best-selling-car-sales-figures-march-2014/',\n",
       " 'http://www.goodcarbadcar.net/2016/01/usa-vehicle-sales-by-model-2015-calendar-year-december/',\n",
       " 'http://www.goodcarbadcar.net/2019/03/february-2019-the-best-selling-vehicles-in-america-every-vehicle-ranked/',\n",
       " 'http://www.goodcarbadcar.net/2013/04/march-2013-usa-vehicle-sales-rankings-by-mode/',\n",
       " 'http://www.goodcarbadcar.net/2013/03/2010-america-auto-sales-rankings-by-mode/',\n",
       " 'http://www.goodcarbadcar.net/2013/03/usa-auto-sales-rankings-by-model-2009/',\n",
       " 'http://www.goodcarbadcar.net/2013/03/february-2013-usa-vehicle-sales-rankings-by-mode/',\n",
       " 'http://www.goodcarbadcar.net/2013/02/2008-america-auto-sales-rankings-by-mode/',\n",
       " 'http://www.goodcarbadcar.net/2013/02/usa-2007-vehicle-sales-rankings-by-mode/',\n",
       " 'http://www.goodcarbadcar.net/2013/02/2006-usa-auto-sales-rankings-by-mode/',\n",
       " 'http://www.goodcarbadcar.net/2013/04/usa-march-2013-car-sales-rankings-by-mode/',\n",
       " 'http://www.goodcarbadcar.net/2013/02/january-2013-usa-auto-sales-rankings-by-mode/',\n",
       " 'http://www.goodcarbadcar.net/2013/01/2012-usa-auto-sales-rankings-by-model7/',\n",
       " 'http://www.goodcarbadcar.net/2019/01/december-2018-the-best-selling-vehicles-in-america-every-vehicle-ranked/',\n",
       " 'http://www.goodcarbadcar.net/2015/03/usa-february-2015-new-vehicle-sales-figures-by-model-make/',\n",
       " 'http://www.goodcarbadcar.net/2015/02/complete-january-2015-auto-sales-figures-every-model-and-brand/',\n",
       " 'http://www.goodcarbadcar.net/2012/06/us-car-sales-rankings-june-2012/',\n",
       " 'http://www.goodcarbadcar.net/2012/05/april-2012-us-car-sales-rankings-a/',\n",
       " 'http://www.goodcarbadcar.net/2011/10/rank-car-august-2011-august-2010-year/',\n",
       " 'http://www.goodcarbadcar.net/2015/02/january-2015-usa-auto-sales-results-by-model-and-make/',\n",
       " 'http://www.goodcarbadcar.net/2015/01/2014-complete-canadian-auto-sales-rankings-by-make-mode/',\n",
       " 'http://www.goodcarbadcar.net/2015/01/2014-usa-new-vehicle-sales-figures-by-mode/',\n",
       " 'http://www.goodcarbadcar.net/2014/12/usa-november-2014-vehicle-sales-figures-by-mode/',\n",
       " 'http://www.goodcarbadcar.net/2012/03/us-best-selling-autos-january-2012/',\n",
       " 'http://www.goodcarbadcar.net/2019/02/january-2019-the-best-selling-vehicles-in-america-every-vehicle-ranked/',\n",
       " 'http://www.goodcarbadcar.net/2018/12/november-2018-the-best-selling-vehicles-in-america-every-vehicle-ranked/',\n",
       " 'http://www.goodcarbadcar.net/2014/09/usa-best-selling-autos-august-2014-sales-figures/',\n",
       " 'http://www.goodcarbadcar.net/2014/05/usa-best-selling-vehicles-2005-sales-figures/',\n",
       " 'http://www.goodcarbadcar.net/2018/11/october-2018-the-best-selling-vehicles-in-america-every-vehicle-ranked/',\n",
       " 'http://www.goodcarbadcar.net/2014/02/january-2014-usa-vehicle-sales-rankings-by-mode/',\n",
       " 'http://www.goodcarbadcar.net/2019/01/december-2018-the-best-selling-vehicles-in-america-every-vehicle-ranked/',\n",
       " 'http://www.goodcarbadcar.net/2014/01/usa-vehicle-sales-rankings-by-model-december-2013-year-end/',\n",
       " 'http://www.goodcarbadcar.net/2013/11/america-best-selling-vehicles-october-2013-sales31/',\n",
       " 'http://www.goodcarbadcar.net/2013/10/usa-best-selling-vehicles-september-2013/',\n",
       " 'http://www.goodcarbadcar.net/2018/10/september-2018-the-best-selling-vehicles-in-america-every-vehicle-ranked/',\n",
       " 'http://www.goodcarbadcar.net/2018/12/november-2018-the-best-selling-vehicles-in-america-every-vehicle-ranked/',\n",
       " 'http://www.goodcarbadcar.net/2010/10/best-selling-european-car-usa-2010/',\n",
       " 'http://www.goodcarbadcar.net/2010/10/best-selling-american-car-2010/',\n",
       " 'http://www.goodcarbadcar.net/2013/04/march-2013-usa-vehicle-sales-rankings-by-mode/',\n",
       " 'http://www.goodcarbadcar.net/2013/04/march-2013-usa-best-selling-vehicles/',\n",
       " 'http://www.goodcarbadcar.net/2013/03/2010-america-auto-sales-rankings-by-mode/',\n",
       " 'http://www.goodcarbadcar.net/2013/03/usa-auto-sales-rankings-by-model-2009/',\n",
       " 'http://www.goodcarbadcar.net/2013/03/february-2013-usa-vehicle-sales-rankings-by-mode/',\n",
       " 'http://www.goodcarbadcar.net/2013/03/overall-best-selling-vehicles-usa-february-2013/',\n",
       " 'http://www.goodcarbadcar.net/2013/02/2008-america-auto-sales-rankings-by-mode/']"
      ]
     },
     "execution_count": 135,
     "metadata": {},
     "output_type": "execute_result"
    }
   ],
   "source": [
    "revised[0:100]"
   ]
  },
  {
   "cell_type": "code",
   "execution_count": null,
   "metadata": {},
   "outputs": [],
   "source": []
  }
 ],
 "metadata": {
  "kernelspec": {
   "display_name": "Python 3",
   "language": "python",
   "name": "python3"
  },
  "language_info": {
   "codemirror_mode": {
    "name": "ipython",
    "version": 3
   },
   "file_extension": ".py",
   "mimetype": "text/x-python",
   "name": "python",
   "nbconvert_exporter": "python",
   "pygments_lexer": "ipython3",
   "version": "3.6.7"
  }
 },
 "nbformat": 4,
 "nbformat_minor": 2
}
