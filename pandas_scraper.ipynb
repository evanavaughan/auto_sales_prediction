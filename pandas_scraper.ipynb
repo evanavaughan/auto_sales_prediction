{
 "cells": [
  {
   "cell_type": "code",
   "execution_count": 1,
   "metadata": {},
   "outputs": [],
   "source": [
    "import requests\n",
    "from bs4 import BeautifulSoup\n",
    "import re\n",
    "import pandas as pd\n",
    "import csv"
   ]
  },
  {
   "cell_type": "code",
   "execution_count": 2,
   "metadata": {},
   "outputs": [],
   "source": [
    "site = 'http://www.goodcarbadcar.net/2012/03/us-best-selling-autos-january-2012/#more'\n",
    "site2 = 'http://www.goodcarbadcar.net/2019/03/february-2019-the-best-selling-vehicles-in-america-every-vehicle-ranked/'"
   ]
  },
  {
   "cell_type": "code",
   "execution_count": 3,
   "metadata": {},
   "outputs": [],
   "source": [
    "def read_site_html(url):\n",
    "#pulls text of tables from inputted url\n",
    "#returns as list of dataframes\n",
    "    html = requests.get(url).text\n",
    "    dataframes = pd.read_html(html, header=0)\n",
    "    return dataframes"
   ]
  },
  {
   "cell_type": "code",
   "execution_count": 4,
   "metadata": {},
   "outputs": [],
   "source": [
    "def pull_useful_tables(dataframes):\n",
    "#deletes tables with no data from list of dataframes\n",
    "#returns single dataframe for month\n",
    "    if len(dataframes) == 1:\n",
    "        return dataframes[0]\n",
    "    else:\n",
    "        for df in dataframes:\n",
    "            if df.columns[0] == 'Rank':\n",
    "                list_of_dfs.append(df)\n",
    "        merged_table = pd.concat(list_of_dfs)\n",
    "        return merged_table"
   ]
  },
  {
   "cell_type": "code",
   "execution_count": 5,
   "metadata": {},
   "outputs": [],
   "source": [
    "def run(url):\n",
    "    x = read_site_html(url)\n",
    "    y = pull_useful_tables(x)\n",
    "    return y"
   ]
  },
  {
   "cell_type": "code",
   "execution_count": 6,
   "metadata": {},
   "outputs": [],
   "source": [
    "bob = run(site2)"
   ]
  },
  {
   "cell_type": "code",
   "execution_count": 7,
   "metadata": {},
   "outputs": [
    {
     "data": {
      "text/html": [
       "<div>\n",
       "<style scoped>\n",
       "    .dataframe tbody tr th:only-of-type {\n",
       "        vertical-align: middle;\n",
       "    }\n",
       "\n",
       "    .dataframe tbody tr th {\n",
       "        vertical-align: top;\n",
       "    }\n",
       "\n",
       "    .dataframe thead th {\n",
       "        text-align: right;\n",
       "    }\n",
       "</style>\n",
       "<table border=\"1\" class=\"dataframe\">\n",
       "  <thead>\n",
       "    <tr style=\"text-align: right;\">\n",
       "      <th></th>\n",
       "      <th>Model</th>\n",
       "      <th>Month</th>\n",
       "      <th>Month LY</th>\n",
       "      <th>Change</th>\n",
       "      <th>YTD</th>\n",
       "      <th>YTD LY</th>\n",
       "      <th>YTD Change</th>\n",
       "    </tr>\n",
       "  </thead>\n",
       "  <tbody>\n",
       "    <tr>\n",
       "      <th>0</th>\n",
       "      <td>Fiat 124 Spider</td>\n",
       "      <td>139</td>\n",
       "      <td>223</td>\n",
       "      <td>-37.67</td>\n",
       "      <td>299</td>\n",
       "      <td>406</td>\n",
       "      <td>-26.35</td>\n",
       "    </tr>\n",
       "    <tr>\n",
       "      <th>1</th>\n",
       "      <td>BMW 2-Series</td>\n",
       "      <td>738</td>\n",
       "      <td>949</td>\n",
       "      <td>-22.23</td>\n",
       "      <td>1316</td>\n",
       "      <td>1589</td>\n",
       "      <td>-17.18</td>\n",
       "    </tr>\n",
       "    <tr>\n",
       "      <th>2</th>\n",
       "      <td>Chrysler 200</td>\n",
       "      <td>6</td>\n",
       "      <td>219</td>\n",
       "      <td>-97.26</td>\n",
       "      <td>18</td>\n",
       "      <td>470</td>\n",
       "      <td>-96.17</td>\n",
       "    </tr>\n",
       "    <tr>\n",
       "      <th>3</th>\n",
       "      <td>Mazda 3</td>\n",
       "      <td>4610</td>\n",
       "      <td>6070</td>\n",
       "      <td>-24.05</td>\n",
       "      <td>9206</td>\n",
       "      <td>11895</td>\n",
       "      <td>-22.61</td>\n",
       "    </tr>\n",
       "    <tr>\n",
       "      <th>4</th>\n",
       "      <td>BMW 3-Series</td>\n",
       "      <td>2379</td>\n",
       "      <td>4255</td>\n",
       "      <td>-44.09</td>\n",
       "      <td>3605</td>\n",
       "      <td>8806</td>\n",
       "      <td>-59.06</td>\n",
       "    </tr>\n",
       "    <tr>\n",
       "      <th>5</th>\n",
       "      <td>Chrysler 300</td>\n",
       "      <td>2508</td>\n",
       "      <td>4449</td>\n",
       "      <td>-43.63</td>\n",
       "      <td>4586</td>\n",
       "      <td>6769</td>\n",
       "      <td>-32.25</td>\n",
       "    </tr>\n",
       "    <tr>\n",
       "      <th>6</th>\n",
       "      <td>Nissan 370Z</td>\n",
       "      <td>211</td>\n",
       "      <td>312</td>\n",
       "      <td>-32.37</td>\n",
       "      <td>384</td>\n",
       "      <td>536</td>\n",
       "      <td>-28.36</td>\n",
       "    </tr>\n",
       "    <tr>\n",
       "      <th>7</th>\n",
       "      <td>BMW 4-Series</td>\n",
       "      <td>2685</td>\n",
       "      <td>2124</td>\n",
       "      <td>26.41</td>\n",
       "      <td>5527</td>\n",
       "      <td>3709</td>\n",
       "      <td>49.02</td>\n",
       "    </tr>\n",
       "    <tr>\n",
       "      <th>8</th>\n",
       "      <td>Alfa Romeo 4C</td>\n",
       "      <td>16</td>\n",
       "      <td>20</td>\n",
       "      <td>-20.00</td>\n",
       "      <td>23</td>\n",
       "      <td>32</td>\n",
       "      <td>-28.13</td>\n",
       "    </tr>\n",
       "    <tr>\n",
       "      <th>9</th>\n",
       "      <td>Toyota 4Runner</td>\n",
       "      <td>9984</td>\n",
       "      <td>10120</td>\n",
       "      <td>-1.34</td>\n",
       "      <td>20319</td>\n",
       "      <td>19789</td>\n",
       "      <td>2.68</td>\n",
       "    </tr>\n",
       "  </tbody>\n",
       "</table>\n",
       "</div>"
      ],
      "text/plain": [
       "             Model Month Month LY  Change    YTD YTD LY  YTD Change\n",
       "0  Fiat 124 Spider   139      223  -37.67    299    406      -26.35\n",
       "1     BMW 2-Series   738      949  -22.23   1316   1589      -17.18\n",
       "2     Chrysler 200     6      219  -97.26     18    470      -96.17\n",
       "3          Mazda 3  4610     6070  -24.05   9206  11895      -22.61\n",
       "4     BMW 3-Series  2379     4255  -44.09   3605   8806      -59.06\n",
       "5     Chrysler 300  2508     4449  -43.63   4586   6769      -32.25\n",
       "6      Nissan 370Z   211      312  -32.37    384    536      -28.36\n",
       "7     BMW 4-Series  2685     2124   26.41   5527   3709       49.02\n",
       "8    Alfa Romeo 4C    16       20  -20.00     23     32      -28.13\n",
       "9   Toyota 4Runner  9984    10120   -1.34  20319  19789        2.68"
      ]
     },
     "execution_count": 7,
     "metadata": {},
     "output_type": "execute_result"
    }
   ],
   "source": [
    "bob.head(10)"
   ]
  },
  {
   "cell_type": "code",
   "execution_count": 8,
   "metadata": {},
   "outputs": [
    {
     "data": {
      "text/plain": [
       "Index(['Model', 'Month', 'Month LY', 'Change', 'YTD', 'YTD LY', 'YTD Change'], dtype='object')"
      ]
     },
     "execution_count": 8,
     "metadata": {},
     "output_type": "execute_result"
    }
   ],
   "source": [
    "bob.columns"
   ]
  },
  {
   "cell_type": "code",
   "execution_count": 10,
   "metadata": {},
   "outputs": [
    {
     "data": {
      "text/plain": [
       "'http://www.goodcarbadcar.net/2012/03/us-best-selling-autos-january-2012/#more'"
      ]
     },
     "execution_count": 10,
     "metadata": {},
     "output_type": "execute_result"
    }
   ],
   "source": [
    "site"
   ]
  },
  {
   "cell_type": "code",
   "execution_count": 27,
   "metadata": {},
   "outputs": [],
   "source": [
    "site3 = 'http://www.goodcarbadcar.net/2012/03/us-best-selling-autos-january-2013/#more'"
   ]
  },
  {
   "cell_type": "code",
   "execution_count": 11,
   "metadata": {},
   "outputs": [],
   "source": [
    "months = ['january', 'february', 'march', 'april', 'may', 'june', 'july', \n",
    "          'august', 'september', 'october', 'november', 'december']\n",
    "years = list(range(2010,2020))"
   ]
  },
  {
   "cell_type": "code",
   "execution_count": 23,
   "metadata": {},
   "outputs": [
    {
     "name": "stdout",
     "output_type": "stream",
     "text": [
      "january\n"
     ]
    }
   ],
   "source": [
    "for month in months:\n",
    "    if month in site:\n",
    "        print(month)"
   ]
  },
  {
   "cell_type": "code",
   "execution_count": 28,
   "metadata": {},
   "outputs": [
    {
     "name": "stdout",
     "output_type": "stream",
     "text": [
      "2012\n",
      "2013\n"
     ]
    }
   ],
   "source": [
    "for year in years:\n",
    "    if str(year) in site3:\n",
    "        print(year)"
   ]
  },
  {
   "cell_type": "code",
   "execution_count": 30,
   "metadata": {},
   "outputs": [],
   "source": [
    "bone = min([year for year in years if str(year) in site3])"
   ]
  },
  {
   "cell_type": "code",
   "execution_count": 31,
   "metadata": {},
   "outputs": [
    {
     "data": {
      "text/plain": [
       "[2012, 2013]"
      ]
     },
     "execution_count": 31,
     "metadata": {},
     "output_type": "execute_result"
    }
   ],
   "source": [
    "bone"
   ]
  },
  {
   "cell_type": "code",
   "execution_count": null,
   "metadata": {},
   "outputs": [],
   "source": [
    "def find_year_and_month(url):\n",
    "    year = min([year for year in years if str(year) in site3])\n",
    "    month "
   ]
  },
  {
   "cell_type": "code",
   "execution_count": null,
   "metadata": {},
   "outputs": [],
   "source": [
    "def change_column_to_month(dataframe, url):\n",
    "    if dataframe.columns[1] = 'Month':\n",
    "        for month in months:\n",
    "            if month in site:\n",
    "                \n",
    "            \n",
    "        #dataframe.rename(columns={'Month':month_year, 'Month LY':month_prior_year}, inplace=True)\n",
    "        "
   ]
  }
 ],
 "metadata": {
  "kernelspec": {
   "display_name": "Python 3",
   "language": "python",
   "name": "python3"
  },
  "language_info": {
   "codemirror_mode": {
    "name": "ipython",
    "version": 3
   },
   "file_extension": ".py",
   "mimetype": "text/x-python",
   "name": "python",
   "nbconvert_exporter": "python",
   "pygments_lexer": "ipython3",
   "version": "3.6.7"
  }
 },
 "nbformat": 4,
 "nbformat_minor": 2
}
