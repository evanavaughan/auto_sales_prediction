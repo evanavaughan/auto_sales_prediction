{
 "cells": [
  {
   "cell_type": "code",
   "execution_count": 84,
   "metadata": {},
   "outputs": [],
   "source": [
    "import requests\n",
    "from bs4 import BeautifulSoup\n",
    "import pandas as pd\n",
    "import csv\n",
    "import re"
   ]
  },
  {
   "cell_type": "code",
   "execution_count": 137,
   "metadata": {},
   "outputs": [],
   "source": [
    "review_url = 'https://www.kbb.com/vehicles/modal/consumerreviewsmodal/?vehicleid=438892&page=32&sortorder=3&issponsoredmodel=false'\n",
    "review_url2 = 'https://www.kbb.com/vehicles/modal/consumerreviewsmodal/?vehicleid=438892&page=31&sortorder=3&issponsoredmodel=false'\n",
    "review_audi = 'https://www.kbb.com/vehicles/modal/consumerreviewsmodal/?vehicleid=410558&page=1&sortorder=3&issponsoredmodel=false'"
   ]
  },
  {
   "cell_type": "code",
   "execution_count": 42,
   "metadata": {},
   "outputs": [],
   "source": [
    "def souper(site):\n",
    "    html = requests.get(site).text\n",
    "    soup = BeautifulSoup(html, 'lxml')\n",
    "    return soup"
   ]
  },
  {
   "cell_type": "code",
   "execution_count": 105,
   "metadata": {},
   "outputs": [],
   "source": [
    "def get_reviews_link(souper):\n",
    "    '''\n",
    "    extracts the url to the reviews page\n",
    "    '''\n",
    "    url_prefix = 'https://www.kbb.com'\n",
    "    url_suffix = souper.find('button', {'id': 'see-all-reviews'}).get('href')\n",
    "    return url_prefix + url_suffix"
   ]
  },
  {
   "cell_type": "code",
   "execution_count": 362,
   "metadata": {},
   "outputs": [],
   "source": [
    "review1 = souper(review_url)\n",
    "review2 = souper(review_url2)\n",
    "review3 = souper(review_audi)"
   ]
  },
  {
   "cell_type": "code",
   "execution_count": 363,
   "metadata": {},
   "outputs": [
    {
     "data": {
      "text/plain": [
       "\"\\n\\n\\nDone\\n\\n1 of 104 Reviews\\n\\t\\t\\t\\nSort \\n\\n\\n\\n\\n\\n\\n\\t\\t\\t\\t\\tKBB.Ads.showAd('kbbAdsLeaderboardModal');\\n\\t\\t\\t\\t\\n\\nAdvertisement\\n\\n\\nPrevious\\nNext\\n\\n\\n\\n\\n\\n\\n5\\nOut of 5\\n\\n\\nPros: Beyond fun to drive\\nCons: Careful where u park to avoid door dings\\n\\n\\n\\n\\n\\n\\nValue\\n5\\n\\n\\n\\nQuality\\n5\\n\\n\\n\\nReliability\\n5\\n\\n\\n\\nPerformance\\n5\\n\\n\\n\\nComfort\\n5\\n\\n\\n\\nStyling\\n5\\n\\n\\n\\n\\n2010 Audi A5 - Solid AWD\\n\\n\\n\\t\\t\\t\\tBy TDUB  on 7/11/2018 12:07:17 PM\\n\\t\\t\\t\\n\\n\\t\\t\\t\\tVery reliable AWD sports car, Im only selling it because I need a four door with two kids, otherwise I would keep it\\n\\t\\t\\t\\n\\nLikely to Recommend: 5 out of 5\\n\\t\\t\\t\\n\\n\\n\\n\\n\\n\\n\\n\\n5\\nOut of 5\\n\\n\\nPros: Everything is perfect!\\nCons: MMI system not very intuitive\\n\\n\\n\\n\\n\\n\\nValue\\n5\\n\\n\\n\\nQuality\\n5\\n\\n\\n\\nReliability\\n5\\n\\n\\n\\nPerformance\\n5\\n\\n\\n\\nComfort\\n5\\n\\n\\n\\nStyling\\n5\\n\\n\\n\\n\\nBest Car I have Owned!\\n\\n\\n\\t\\t\\t\\tBy Bethgrce  on 12/26/2017 12:48:42 PM\\n\\t\\t\\t\\n\\n\\t\\t\\t\\tThe best car I have owned so far.  Ride is smooth and quiet.  Fun car to drive, gets great gas mileage.  Looks great. Only complaint is with the infotainment system.  It is very hard to navigate and understand.   Not very intuitive.\\n\\t\\t\\t\\n\\nLikely to Recommend: 5 out of 5\\n\\t\\t\\t\\n\\n\\n\\n\\n\\n\\n Prev\\n\\n1\\n of \\n104 Reviews\\n\\nNext \\n\\n\\n\\n\\n\\n\\n\\n Most Helpful \\n\\n\\nDate: Newest\\n\\t\\t\\t\\t\\n\\nDate: Oldest\\n\\t\\t\\t\\t\\n\\nRating: Highest\\n\\t\\t\\t\\t\\n\\nRating: Lowest\\n\\t\\t\\t\\t\\n\\n\\n\\n\\n\""
      ]
     },
     "execution_count": 363,
     "metadata": {},
     "output_type": "execute_result"
    }
   ],
   "source": [
    "review3.text"
   ]
  },
  {
   "cell_type": "code",
   "execution_count": 311,
   "metadata": {},
   "outputs": [],
   "source": [
    "def pros_and_cons(souper):\n",
    "    '''\n",
    "    extracts pros and cons from each review and appends them to a list in tuple format\n",
    "    '''\n",
    "    reviews = []\n",
    "    for i in range(0,3):\n",
    "        try:\n",
    "            review = souper.find_all('div', {'class':'consumer-review-proncon paragraph-two'})[i].text\n",
    "            cleaned_review = re.sub('\\n|Pros: ', '', review).split('Cons: ')\n",
    "            pros = cleaned_review[0]\n",
    "            cons = cleaned_review[1]\n",
    "            reviews.append((pros, cons))\n",
    "        except:\n",
    "            pass\n",
    "    return reviews"
   ]
  },
  {
   "cell_type": "code",
   "execution_count": 312,
   "metadata": {},
   "outputs": [],
   "source": [
    "def find_review_count(souper): \n",
    "    review_count = souper.find('span', {'class':'js-review-pager consumer-review-page'}).text\n",
    "    return int(review_count)"
   ]
  },
  {
   "cell_type": "code",
   "execution_count": 313,
   "metadata": {},
   "outputs": [],
   "source": [
    "def find_rating_score(souper):\n",
    "    rating = souper.find('div', {'class':'rating-number'}).text\n",
    "    return int(rating)"
   ]
  },
  {
   "cell_type": "code",
   "execution_count": 314,
   "metadata": {},
   "outputs": [],
   "source": [
    "def extract_dates(souper):\n",
    "    '''\n",
    "    extracts string that includes date of each review\n",
    "    '''\n",
    "    date_strings = []\n",
    "    for i in range(1,10,4):\n",
    "        try:\n",
    "            reviews = souper.find_all('p', {'class':'paragraph-two'})\n",
    "            date = re.sub('\\n|\\t|\\r', '', reviews[i].text)\n",
    "            date_strings.append(date)\n",
    "        except:\n",
    "            pass\n",
    "    return date_strings"
   ]
  },
  {
   "cell_type": "code",
   "execution_count": 301,
   "metadata": {},
   "outputs": [],
   "source": [
    "def clean_dates(souper):\n",
    "    '''\n",
    "    extracts and cleans each of the dates on the review page\n",
    "    '''\n",
    "    dates = []\n",
    "    for i in range(1,10,4):\n",
    "        try:\n",
    "            review = souper.find_all('p', {'class':'paragraph-two'})[i].text\n",
    "            date = re.compile('\\d+/\\d+/\\d+')\n",
    "            cleaned_date = date.findall(review)\n",
    "            dates.append(cleaned_date[0])\n",
    "        except:\n",
    "            pass\n",
    "    return dates"
   ]
  },
  {
   "cell_type": "code",
   "execution_count": 331,
   "metadata": {},
   "outputs": [],
   "source": [
    "def extract_reviews(souper):\n",
    "    '''\n",
    "    extracts and cleans each of the reviews on the page\n",
    "    '''\n",
    "    reviews = []\n",
    "    for i in range(2,11,4):\n",
    "        try:\n",
    "            review = souper.find_all('p', {'class':'paragraph-two'})\n",
    "            cleaned_review = re.sub('\\n|\\t|\\r', '', review[i].text)\n",
    "            reviews.append(cleaned_review)\n",
    "        except:\n",
    "            pass\n",
    "    return reviews"
   ]
  },
  {
   "cell_type": "code",
   "execution_count": 359,
   "metadata": {},
   "outputs": [],
   "source": [
    "def extract_scores(souper):\n",
    "    '''\n",
    "    extracts and cleans each of the numberical categorical review scores\n",
    "    outputs as a list of lists where the length of outer list is number of reviews (1-3)\n",
    "    length of inner list is 6, one for each score\n",
    "    scores: value, quality, reliability, performance, comfort, styling\n",
    "    '''\n",
    "    scores = []\n",
    "    for i in range(0,11):\n",
    "        try:\n",
    "            review = souper.find_all('div', {'class':'col-base-6 col-md-5 text-center'})[i].text\n",
    "            numbers = re.compile('\\d')\n",
    "            cleaned_numbers = numbers.findall(review)\n",
    "            scores.append(cleaned_numbers)\n",
    "        except:\n",
    "            pass\n",
    "    return scores"
   ]
  }
 ],
 "metadata": {
  "kernelspec": {
   "display_name": "Python 3",
   "language": "python",
   "name": "python3"
  },
  "language_info": {
   "codemirror_mode": {
    "name": "ipython",
    "version": 3
   },
   "file_extension": ".py",
   "mimetype": "text/x-python",
   "name": "python",
   "nbconvert_exporter": "python",
   "pygments_lexer": "ipython3",
   "version": "3.6.7"
  }
 },
 "nbformat": 4,
 "nbformat_minor": 2
}
