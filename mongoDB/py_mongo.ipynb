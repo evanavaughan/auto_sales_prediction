{
 "cells": [
  {
   "cell_type": "code",
   "execution_count": null,
   "metadata": {},
   "outputs": [],
   "source": [
    "from pymongo import MongoClient\n",
    "from api_keys import client_pass\n",
    "import pprint"
   ]
  },
  {
   "cell_type": "code",
   "execution_count": 2,
   "metadata": {},
   "outputs": [],
   "source": [
    "#database = autos\n",
    "#collections = models, reviews\n",
    "\n",
    "client = MongoClient(client_pass)\n",
    "db = client.autos"
   ]
  },
  {
   "cell_type": "code",
   "execution_count": 3,
   "metadata": {},
   "outputs": [],
   "source": [
    "model = {\n",
    "    'Vehicle_id': ,\n",
    "    'Manufacturer': make_model_year()[0],\n",
    "    'Model' = make_model_year()[1],\n",
    "    'Year' = make_model_year()[2],\n",
    "    'Combined MPG': combined_mpg()\n",
    "    'City MPG': city_hwy_mpg()[0],\n",
    "    'Hwy MPG': city_hwy_mpg()[1],\n",
    "    'Expert Rating': ratings()[0],\n",
    "    'User Rating': ratings()[1],\n",
    "    'Price': price_low_high(),\n",
    "    'Expert Review': expert_review(),\n",
    "}"
   ]
  },
  {
   "cell_type": "code",
   "execution_count": null,
   "metadata": {},
   "outputs": [],
   "source": [
    "review = {\n",
    "    'Vehicle_id': vehicle_id(),\n",
    "    'Manufacturer': make_model_year()[0],\n",
    "    'Model': make_model_year()[1],\n",
    "    'Date of Review': extract_clean_dates()[i],\n",
    "    'Rating Score': rating_score()[1],\n",
    "    'Review': extract_reviews()[i], ********\n",
    "    'Scores':{'Value': extract_scores()[i][0],\n",
    "            'Quality': extract_scores()[i][1],\n",
    "            'Reliability': extract_scores()[i][2],\n",
    "            'Performance': extract_scores()[i][3],\n",
    "            'Comfort': extract_scores()[i][4],\n",
    "            'Styling': extract_scores()[i][5],\n",
    "             },\n",
    "}"
   ]
  },
  {
   "cell_type": "code",
   "execution_count": null,
   "metadata": {},
   "outputs": [],
   "source": [
    "db.models.insert(reviews)"
   ]
  },
  {
   "cell_type": "code",
   "execution_count": 4,
   "metadata": {},
   "outputs": [
    {
     "name": "stderr",
     "output_type": "stream",
     "text": [
      "/anaconda3/lib/python3.6/site-packages/ipykernel_launcher.py:1: DeprecationWarning: insert is deprecated. Use insert_one or insert_many instead.\n",
      "  \"\"\"Entry point for launching an IPython kernel.\n"
     ]
    },
    {
     "data": {
      "text/plain": [
       "ObjectId('5cf578b91aa3e963dfa70fb3')"
      ]
     },
     "execution_count": 4,
     "metadata": {},
     "output_type": "execute_result"
    }
   ],
   "source": [
    "db.models.insert(model)"
   ]
  },
  {
   "cell_type": "code",
   "execution_count": 6,
   "metadata": {},
   "outputs": [
    {
     "name": "stdout",
     "output_type": "stream",
     "text": [
      "{'Class': 'full-size',\n",
      " 'Manufacturer': 'Tesla Motors',\n",
      " 'Ratings': {'Engine': 3, 'Value': 5},\n",
      " '_id': ObjectId('5cf578b91aa3e963dfa70fb3')}\n"
     ]
    }
   ],
   "source": [
    "for a in db.models.find():\n",
    "    pprint.pprint(a)"
   ]
  },
  {
   "cell_type": "code",
   "execution_count": null,
   "metadata": {},
   "outputs": [],
   "source": []
  }
 ],
 "metadata": {
  "kernelspec": {
   "display_name": "Python 3",
   "language": "python",
   "name": "python3"
  },
  "language_info": {
   "codemirror_mode": {
    "name": "ipython",
    "version": 3
   },
   "file_extension": ".py",
   "mimetype": "text/x-python",
   "name": "python",
   "nbconvert_exporter": "python",
   "pygments_lexer": "ipython3",
   "version": "3.6.7"
  }
 },
 "nbformat": 4,
 "nbformat_minor": 2
}
