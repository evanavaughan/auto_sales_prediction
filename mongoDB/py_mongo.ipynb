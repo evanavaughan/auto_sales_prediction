{
 "cells": [
  {
   "cell_type": "code",
   "execution_count": 2,
   "metadata": {},
   "outputs": [],
   "source": []
  },
  {
   "cell_type": "code",
   "execution_count": 3,
   "metadata": {},
   "outputs": [],
   "source": [
    "from pymongo import MongoClient\n",
    "\n",
    "import pprint"
   ]
  },
  {
   "cell_type": "code",
   "execution_count": 4,
   "metadata": {},
   "outputs": [],
   "source": [
    "#database = autos\n",
    "#collections = models, reviews\n",
    "\n",
    "client = MongoClient(client_pass)\n",
    "db = client.autos"
   ]
  },
  {
   "cell_type": "code",
   "execution_count": 6,
   "metadata": {},
   "outputs": [],
   "source": [
    "_model = {\n",
    "    'test':1}"
   ]
  },
  {
   "cell_type": "code",
   "execution_count": null,
   "metadata": {},
   "outputs": [],
   "source": [
    "_review = {\n",
    "    'Vehicle_id': vehicle_id(),\n",
    "    'Review_id': counter\n",
    "    'Manufacturer': make_model_year()[0],\n",
    "    'Model': make_model_year()[1],\n",
    "    'Date of Review': extract_clean_dates()[j],\n",
    "    'Rating Score': rating_score()[1],\n",
    "    'Review': extract_reviews()[j], ********\n",
    "    'Scores':{'Value': extract_scores()[i][0],\n",
    "            'Quality': extract_scores()[i][1],\n",
    "            'Reliability': extract_scores()[j][2],\n",
    "            'Performance': extract_scores()[j][3],\n",
    "            'Comfort': extract_scores()[j][4],\n",
    "            'Styling': extract_scores()[j][5],\n",
    "             },\n",
    "}"
   ]
  },
  {
   "cell_type": "code",
   "execution_count": null,
   "metadata": {},
   "outputs": [],
   "source": [
    "db.reviews.insert(_review)"
   ]
  },
  {
   "cell_type": "code",
   "execution_count": 7,
   "metadata": {},
   "outputs": [
    {
     "name": "stderr",
     "output_type": "stream",
     "text": [
      "/anaconda3/lib/python3.6/site-packages/ipykernel_launcher.py:1: DeprecationWarning: insert is deprecated. Use insert_one or insert_many instead.\n",
      "  \"\"\"Entry point for launching an IPython kernel.\n"
     ]
    },
    {
     "data": {
      "text/plain": [
       "ObjectId('5cfebdc555b5d84bcc10fe4f')"
      ]
     },
     "execution_count": 7,
     "metadata": {},
     "output_type": "execute_result"
    }
   ],
   "source": [
    "db.model.insert(_model)"
   ]
  },
  {
   "cell_type": "code",
   "execution_count": 8,
   "metadata": {},
   "outputs": [
    {
     "name": "stdout",
     "output_type": "stream",
     "text": [
      "{'_id': ObjectId('5cfebdc555b5d84bcc10fe4f'), 'test': 1}\n"
     ]
    }
   ],
   "source": [
    "for a in db.model.find():\n",
    "    pprint.pprint(a)"
   ]
  },
  {
   "cell_type": "code",
   "execution_count": null,
   "metadata": {},
   "outputs": [],
   "source": [
    "if __name__ == \"__main__\":\n",
    "    bob = Scraper()\n",
    "    bob.get_listing_pages(pre, suf)\n",
    "    for page in bob.clean_url_list():\n",
    "        p = page\n",
    "        make = p.split('/')[3].title()\n",
    "        model = p.split('/')[4].title()\n",
    "        year = p.split('/')[5].title()\n",
    "        web = bob.get_lxml(page)\n",
    "        model = ModelParser(web)\n",
    "        y = model.get_reviews_link()\n",
    "        #model.extract_all_model_data()\n",
    "        link = model.get_reviews_link()\n",
    "        review = ReviewsParser(link)\n",
    "        review.extract_all_reviews()"
   ]
  },
  {
   "cell_type": "code",
   "execution_count": null,
   "metadata": {},
   "outputs": [],
   "source": [
    "                '''\n",
    "                for j in range(0, self.rating_score()[0]):\n",
    "                    _review = {\n",
    "                                'Vehicle_id': self.vehicle_id(),\n",
    "                                'Review_id': review_count,\n",
    "                                'Manufacturer': make,\n",
    "                                'Model': model,\n",
    "                                'Date of Review': self.extract_clean_dates()[j],\n",
    "                                'Rating Score': self.rating_score()[1][j],\n",
    "                                'Review': self.extract_reviews()[j],\n",
    "                                'Scores':{'Value': self.extract_scores()[j][0],\n",
    "                                        'Quality': self.extract_scores()[j][1],\n",
    "                                        'Reliability': self.extract_scores()[j][2],\n",
    "                                        'Performance': self.extract_scores()[j][3],\n",
    "                                        'Comfort': self.extract_scores()[j][4],\n",
    "                                        'Styling': self.extract_scores()[j][5],\n",
    "                                         },\n",
    "                            }\n",
    "                    db.reviews.insert(_review)\n",
    "                    review_count += 1\n",
    "        except:\n",
    "            pass\n",
    "\n",
    "\n",
    "\n",
    "    def extract_all_model_data(self):\n",
    "        client = MongoClient(client_pass)\n",
    "        db = client.autos\n",
    "        _model = {\n",
    "                'Vehicle_id': self.vehicle_id(),\n",
    "                'Manufacturer': make,\n",
    "                'Model': model,\n",
    "                'Year': year,\n",
    "                'Combined MPG': self.combined_mpg(),\n",
    "                'City MPG': self.city_hwy_mpg()[0],\n",
    "                'Hwy MPG': self.city_hwy_mpg()[1],\n",
    "                'Expert Rating': self.ratings()[0],\n",
    "                'User Rating': self.ratings()[1],\n",
    "                'Price': self.price_low_high(),\n",
    "                'Expert Review': self.expert_review(),\n",
    "            }\n",
    "        db.models.insert(_model)\n",
    "        '''"
   ]
  },
  {
   "cell_type": "code",
   "execution_count": null,
   "metadata": {},
   "outputs": [],
   "source": [
    "        reviews_pages = []\n",
    "        if self.reviews_link:\n",
    "            url_pre = self.reviews_link.split('page=1')[0]\n",
    "            url_suf = self.reviews_link.split('page=1')[1]\n",
    "        client = MongoClient(client_pass)\n",
    "        db = client.autos\n",
    "        review_count = 1\n",
    "        review_pages = math.ceil(self.find_review_page_count()/3)\n",
    "        for i in range(1, review_pages + 1):\n",
    "            reviews_paginator = url_pre + 'page=' + str(i) + url_suf\n",
    "            try:\n",
    "                self.get_lxml(reviews_paginator)\n",
    "                for j in range(0, self.rating_score()[0]+1):\n",
    "                    vehicle_id = self.vehicle_id()\n",
    "                    review_id = review_count\n",
    "                    #manufacturer = make\n",
    "                    #model = model\n",
    "                    date_of_review = self.extract_clean_dates()[j]\n",
    "                    rating_score = self.rating_score()[1][j]\n",
    "                    review = self.extract_reviews()[j]\n",
    "                    value = self.extract_scores()[j][0]\n",
    "                    quality = self.extract_scores()[j][1]\n",
    "                    reliability = self.extract_scores()[j][2]\n",
    "                    performance = self.extract_scores()[j][3]\n",
    "                    comfort = self.extract_scores()[j][4]\n",
    "                    styling = self.extract_scores()[j][5]\n",
    "                    REVIEW = {\n",
    "                                'Vehicle_id': vehicle_id,\n",
    "                                'Review_id': review_id,\n",
    "                                'Manufacturer': make,\n",
    "                                'Model': model,\n",
    "                                'Date of Review': date_of_review,\n",
    "                                'Rating Score': rating_score,\n",
    "                                'Review': review,\n",
    "                                'Scores':{'Value': value,\n",
    "                                        'Quality': quality,\n",
    "                                        'Reliability': reliability,\n",
    "                                        'Performance': performance,\n",
    "                                        'Comfort': comfort,\n",
    "                                        'Styling': styling,\n",
    "                                         },\n",
    "                            }\n",
    "                    print(REVIEW)\n",
    "                    db.reviews.insert(REVIEW)\n",
    "                    review_count += 1\n",
    "            except:\n",
    "                pass"
   ]
  },
  {
   "cell_type": "code",
   "execution_count": null,
   "metadata": {},
   "outputs": [],
   "source": [
    "['https://www.kbb.com/honda/cr-v/2015/', 'https://www.kbb.com/honda/cr-v/2017/', 'https://www.kbb.com/honda/cr-v/2019/', 'https://www.kbb.com/audi/a5/2019/', 'https://www.kbb.com/audi/s5/2019/', 'https://www.kbb.com/audi/rs-5/2019/']"
   ]
  },
  {
   "cell_type": "code",
   "execution_count": null,
   "metadata": {},
   "outputs": [],
   "source": [
    "bob = Scraper()\n",
    "bob.get_listing_pages(pre, suf)\n",
    "page = bob.clean_url_list()[4:8]\n",
    "web3 = bob.get_lxml(page[3])\n",
    "web0 = bob.get_lxml(page[0])\n",
    "model3 = ModelParser(web3)\n",
    "model0 = ModelParser(web0)\n",
    "model0.put_models_in_database()\n",
    "model3.put_models_in_database()\n",
    "link0 = model0.get_reviews_link()\n",
    "link3 = model3.get_reviews_link()\n",
    "review0 = ReviewsParser(link0)\n",
    "review3 = ReviewsParser(link3)\n",
    "review3.extract_all_reviews_urls()\n",
    "review3.put_reviews_in_database()\n"
   ]
  }
 ],
 "metadata": {
  "kernelspec": {
   "display_name": "Python 3",
   "language": "python",
   "name": "python3"
  },
  "language_info": {
   "codemirror_mode": {
    "name": "ipython",
    "version": 3
   },
   "file_extension": ".py",
   "mimetype": "text/x-python",
   "name": "python",
   "nbconvert_exporter": "python",
   "pygments_lexer": "ipython3",
   "version": "3.6.7"
  }
 },
 "nbformat": 4,
 "nbformat_minor": 2
}
