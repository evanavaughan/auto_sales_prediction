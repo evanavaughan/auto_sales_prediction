{
 "cells": [
  {
   "cell_type": "code",
   "execution_count": 84,
   "metadata": {},
   "outputs": [],
   "source": [
    "import requests\n",
    "from bs4 import BeautifulSoup\n",
    "import pandas as pd\n",
    "import csv\n",
    "import re"
   ]
  },
  {
   "cell_type": "code",
   "execution_count": 137,
   "metadata": {},
   "outputs": [],
   "source": [
    "review_url = 'https://www.kbb.com/vehicles/modal/consumerreviewsmodal/?vehicleid=438892&page=32&sortorder=3&issponsoredmodel=false'\n",
    "review_url2 = 'https://www.kbb.com/vehicles/modal/consumerreviewsmodal/?vehicleid=438892&page=31&sortorder=3&issponsoredmodel=false'\n",
    "review_audi = 'https://www.kbb.com/vehicles/modal/consumerreviewsmodal/?vehicleid=410558&page=1&sortorder=3&issponsoredmodel=false'"
   ]
  },
  {
   "cell_type": "code",
   "execution_count": 42,
   "metadata": {},
   "outputs": [],
   "source": [
    "def souper(site):\n",
    "    html = requests.get(site).text\n",
    "    soup = BeautifulSoup(html, 'lxml')\n",
    "    return soup"
   ]
  },
  {
   "cell_type": "code",
   "execution_count": 105,
   "metadata": {},
   "outputs": [],
   "source": [
    "def get_reviews_link(souper):\n",
    "    '''\n",
    "    extracts the url to the reviews page\n",
    "    '''\n",
    "    url_prefix = 'https://www.kbb.com'\n",
    "    url_suffix = souper.find('button', {'id': 'see-all-reviews'}).get('href')\n",
    "    return url_prefix + url_suffix"
   ]
  },
  {
   "cell_type": "code",
   "execution_count": 138,
   "metadata": {},
   "outputs": [],
   "source": [
    "review_page = souper(review_url)\n",
    "review_page2 = souper(review_url2)\n",
    "review_page3 = souper(review_audi)"
   ]
  },
  {
   "cell_type": "code",
   "execution_count": 143,
   "metadata": {},
   "outputs": [
    {
     "data": {
      "text/plain": [
       "\"\\n\\n\\nDone\\n\\n1 of 104 Reviews\\n\\t\\t\\t\\nSort \\n\\n\\n\\n\\n\\n\\n\\t\\t\\t\\t\\tKBB.Ads.showAd('kbbAdsLeaderboardModal');\\n\\t\\t\\t\\t\\n\\nAdvertisement\\n\\n\\nPrevious\\nNext\\n\\n\\n\\n\\n\\n\\n5\\nOut of 5\\n\\n\\nPros: Beyond fun to drive\\nCons: Careful where u park to avoid door dings\\n\\n\\n\\n\\n\\n\\nValue\\n5\\n\\n\\n\\nQuality\\n5\\n\\n\\n\\nReliability\\n5\\n\\n\\n\\nPerformance\\n5\\n\\n\\n\\nComfort\\n5\\n\\n\\n\\nStyling\\n5\\n\\n\\n\\n\\n2010 Audi A5 - Solid AWD\\n\\n\\n\\t\\t\\t\\tBy TDUB  on 7/11/2018 12:07:17 PM\\n\\t\\t\\t\\n\\n\\t\\t\\t\\tVery reliable AWD sports car, Im only selling it because I need a four door with two kids, otherwise I would keep it\\n\\t\\t\\t\\n\\nLikely to Recommend: 5 out of 5\\n\\t\\t\\t\\n\\n\\n\\n\\n\\n\\n\\n\\n5\\nOut of 5\\n\\n\\nPros: Everything is perfect!\\nCons: MMI system not very intuitive\\n\\n\\n\\n\\n\\n\\nValue\\n5\\n\\n\\n\\nQuality\\n5\\n\\n\\n\\nReliability\\n5\\n\\n\\n\\nPerformance\\n5\\n\\n\\n\\nComfort\\n5\\n\\n\\n\\nStyling\\n5\\n\\n\\n\\n\\nBest Car I have Owned!\\n\\n\\n\\t\\t\\t\\tBy Bethgrce  on 12/26/2017 12:48:42 PM\\n\\t\\t\\t\\n\\n\\t\\t\\t\\tThe best car I have owned so far.  Ride is smooth and quiet.  Fun car to drive, gets great gas mileage.  Looks great. Only complaint is with the infotainment system.  It is very hard to navigate and understand.   Not very intuitive.\\n\\t\\t\\t\\n\\nLikely to Recommend: 5 out of 5\\n\\t\\t\\t\\n\\n\\n\\n\\n\\n\\n Prev\\n\\n1\\n of \\n104 Reviews\\n\\nNext \\n\\n\\n\\n\\n\\n\\n\\n Most Helpful \\n\\n\\nDate: Newest\\n\\t\\t\\t\\t\\n\\nDate: Oldest\\n\\t\\t\\t\\t\\n\\nRating: Highest\\n\\t\\t\\t\\t\\n\\nRating: Lowest\\n\\t\\t\\t\\t\\n\\n\\n\\n\\n\""
      ]
     },
     "execution_count": 143,
     "metadata": {},
     "output_type": "execute_result"
    }
   ],
   "source": [
    "review_page3.text"
   ]
  },
  {
   "cell_type": "code",
   "execution_count": 52,
   "metadata": {},
   "outputs": [],
   "source": [
    "def find_review_count(souper): \n",
    "    review_count = souper.find('span', {'class':'js-review-pager consumer-review-page'}).text\n",
    "    return int(review_count)"
   ]
  },
  {
   "cell_type": "code",
   "execution_count": 55,
   "metadata": {},
   "outputs": [],
   "source": [
    "def find_rating_score(souper):\n",
    "    rating = souper.find('div', {'class':'rating-number'}).text\n",
    "    return int(rating)"
   ]
  },
  {
   "cell_type": "code",
   "execution_count": 160,
   "metadata": {},
   "outputs": [],
   "source": [
    "def extract_reviews(souper):\n",
    "    '''\n",
    "    extracts and cleans each of the reviews on the page\n",
    "    '''\n",
    "    reviews = souper.find_all('p', {'class':'paragraph-two'})\n",
    "    try:\n",
    "        cleaned_review1 = re.sub('\\n|\\t|\\r', '', reviews[2].text)\n",
    "    except:\n",
    "        cleaned_review1 = 'NULL'\n",
    "    \n",
    "    try:\n",
    "        cleaned_review2 = re.sub('\\n|\\t|\\r', '', reviews[6].text)\n",
    "    except:\n",
    "        cleaned_review2 = 'NULL'\n",
    "    \n",
    "    try:\n",
    "        cleaned_review3 = re.sub('\\n|\\t|\\r', '', reviews[10].text)\n",
    "    except:\n",
    "        cleaned_review3 = 'NULL'\n",
    "    \n",
    "    return cleaned_review1, cleaned_review2, cleaned_review3"
   ]
  },
  {
   "cell_type": "code",
   "execution_count": 161,
   "metadata": {},
   "outputs": [],
   "source": [
    "y = extract_reviews(review_page3)"
   ]
  },
  {
   "cell_type": "code",
   "execution_count": 162,
   "metadata": {},
   "outputs": [
    {
     "data": {
      "text/plain": [
       "('Very reliable AWD sports car, Im only selling it because I need a four door with two kids, otherwise I would keep it',\n",
       " 'The best car I have owned so far.  Ride is smooth and quiet.  Fun car to drive, gets great gas mileage.  Looks great. Only complaint is with the infotainment system.  It is very hard to navigate and understand.   Not very intuitive.',\n",
       " 'NULL')"
      ]
     },
     "execution_count": 162,
     "metadata": {},
     "output_type": "execute_result"
    }
   ],
   "source": [
    "y"
   ]
  },
  {
   "cell_type": "code",
   "execution_count": 70,
   "metadata": {},
   "outputs": [
    {
     "data": {
      "text/plain": [
       "'\\n\\t\\t\\t\\tPlease wait do not buy this car until Honda fixes the smart entry issue on this car. After owning this car for two months the smart entry system stop working. Other people and my self waiting for Honda to fix this. Honda knows about this defect from last November. they claim they are working on a fix. I t has been almost five months and no answer from Honda yet. They told me that this is not a major safety issue. They also told me that I CAN GO AND REPORT THIS TO THE BBB AUTO. the receptionist for Honda motor company told me that Honda company is very strong and reporting issue like that will never effect Honda reputation  I was surprise to hear that.  You might want to buy the LX model which it dose not have the smart entry system\\n\\t\\t\\t'"
      ]
     },
     "execution_count": 70,
     "metadata": {},
     "output_type": "execute_result"
    }
   ],
   "source": [
    "reviews[10].text\n",
    "reviews"
   ]
  },
  {
   "cell_type": "code",
   "execution_count": 83,
   "metadata": {},
   "outputs": [
    {
     "data": {
      "text/plain": [
       "<p class=\"paragraph-two\">\n",
       "\t\t\t\tBought an EX-L w/Navigation sight unseen (since availability scarce). Expected to get the car as shown on the Honda website. Car arrived with black wheels! Dealer said they were Honda standard, but they are not shown on Honda website or in any Honda material. They make the car look much worse than it should. Dealer would not change or even discuss the matter. I am now contemplating investing in a new set of wheels. Buying a new car would be much more pleasant if one could bypass the sales department. Very unpleasant experience.\n",
       "\t\t\t</p>"
      ]
     },
     "execution_count": 83,
     "metadata": {},
     "output_type": "execute_result"
    }
   ],
   "source": [
    "reviews2[2]"
   ]
  },
  {
   "cell_type": "code",
   "execution_count": 49,
   "metadata": {},
   "outputs": [
    {
     "data": {
      "text/plain": [
       "'5'"
      ]
     },
     "execution_count": 49,
     "metadata": {},
     "output_type": "execute_result"
    }
   ],
   "source": [
    "x"
   ]
  },
  {
   "cell_type": "code",
   "execution_count": null,
   "metadata": {},
   "outputs": [],
   "source": []
  }
 ],
 "metadata": {
  "kernelspec": {
   "display_name": "Python 3",
   "language": "python",
   "name": "python3"
  },
  "language_info": {
   "codemirror_mode": {
    "name": "ipython",
    "version": 3
   },
   "file_extension": ".py",
   "mimetype": "text/x-python",
   "name": "python",
   "nbconvert_exporter": "python",
   "pygments_lexer": "ipython3",
   "version": "3.6.7"
  }
 },
 "nbformat": 4,
 "nbformat_minor": 2
}
