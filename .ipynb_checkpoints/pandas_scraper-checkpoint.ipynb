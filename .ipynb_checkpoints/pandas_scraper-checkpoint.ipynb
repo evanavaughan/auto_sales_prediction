{
 "cells": [
  {
   "cell_type": "code",
   "execution_count": 399,
   "metadata": {},
   "outputs": [],
   "source": [
    "import requests\n",
    "from bs4 import BeautifulSoup\n",
    "import re\n",
    "import pandas as pd\n",
    "import csv\n",
    "import tqdm"
   ]
  },
  {
   "cell_type": "code",
   "execution_count": 400,
   "metadata": {},
   "outputs": [],
   "source": [
    "site = 'http://www.goodcarbadcar.net/2012/03/us-best-selling-autos-january-2012/#more'\n",
    "site2 = 'http://www.goodcarbadcar.net/2019/03/february-2019-the-best-selling-vehicles-in-america-every-vehicle-ranked/'\n",
    "site3 = 'http://www.goodcarbadcar.net/2016/12/november-2016-ytd-usa-vehicle-sales-rankings-by-mode/'"
   ]
  },
  {
   "cell_type": "code",
   "execution_count": 440,
   "metadata": {},
   "outputs": [],
   "source": [
    "list_of_urls = [\"http://www.goodcarbadcar.net/2019/05/april-2019-the-best-selling-vehicles-in-america-every-vehicle-ranked/',\",\n",
    " \"http://www.goodcarbadcar.net/2019/04/march-2019-the-best-selling-vehicles-in-america-every-vehicle-ranked/',\",\n",
    " \"http://www.goodcarbadcar.net/2019/03/february-2019-the-best-selling-vehicles-in-america-every-vehicle-ranked/',\",\n",
    " \"http://www.goodcarbadcar.net/2019/02/january-2019-the-best-selling-vehicles-in-america-every-vehicle-ranked/',\",\n",
    " \"http://www.goodcarbadcar.net/2019/01/december-2018-the-best-selling-vehicles-in-america-every-vehicle-ranked/',\",\n",
    " \"http://www.goodcarbadcar.net/2018/12/november-2018-the-best-selling-vehicles-in-america-every-vehicle-ranked/',\",\n",
    " \"http://www.goodcarbadcar.net/2018/11/october-2018-the-best-selling-vehicles-in-america-every-vehicle-ranked/',\",\n",
    " \"http://www.goodcarbadcar.net/2018/10/september-2018-the-best-selling-vehicles-in-america-every-vehicle-ranked/',\",\n",
    " \"http://www.goodcarbadcar.net/2018/09/august-2018-the-best-selling-vehicles-in-america-every-vehicle-ranked/',\",\n",
    " \"http://www.goodcarbadcar.net/2018/08/july-2018-the-best-selling-vehicles-in-america-every-vehicle-ranked/',\",\n",
    " \"http://www.goodcarbadcar.net/2018/07/june-2018-the-best-selling-vehicles-in-america-every-vehicle-ranked/',\",\n",
    " 'http://www.goodcarbadcar.net/2018/06/may-2018-ytd-u-s-vehicle-sales-rankings-the-best-selling-vehicles-in-america/',\n",
    " 'http://www.goodcarbadcar.net/2018/05/april-2018-ytd-u-s-vehicle-sales-rankings-top-284-best-selling-vehicles-in-america-every-vehicle-ranked/',\n",
    " \"http://www.goodcarbadcar.net/2018/04/march-2018-ytd-u-s-vehicle-sales-rankings-top-284-best-selling-vehicles-in-america-every-vehicle-ranked/'\",\n",
    " \"http://www.goodcarbadcar.net/2018/03/february-2018-top-287-best-selling-vehicles-america-every-vehicle-ranked/'\",\n",
    " \"http://www.goodcarbadcar.net/2018/02/january-2018-top-284-best-selling-vehicles-in-america-every-vehicle-ranked/'\",\n",
    " \"http://www.goodcarbadcar.net/2017/02/january-2017-usa-vehicle-sales-rankings-by-mode/',\",\n",
    " \"http://www.goodcarbadcar.net/2017/01/usa-2016-vehicle-sales-by-model-manufacturer-brand/',\",\n",
    " \"http://www.goodcarbadcar.net/2016/12/november-2016-ytd-usa-vehicle-sales-rankings-by-mode/'\",\n",
    " \"http://www.goodcarbadcar.net/2016/11/october-2016-usa-vehicle-sales-by-model-rankings/',\",\n",
    " \"http://www.goodcarbadcar.net/2016/10/usa-september-2016-new-vehicle-sales-by-model-brand-manufacturer/',\",\n",
    " \"http://www.goodcarbadcar.net/2016/09/usa-august-2016-auto-sales-by-model-brand/'\",\n",
    " \"http://www.goodcarbadcar.net/2016/08/usa-all-vehicle-sales-by-model-july-2016-ytd/'\",\n",
    " \"http://www.goodcarbadcar.net/2016/07/usa-vehicle-sales-by-model-june-2016-first-half/',\",\n",
    " 'http://www.goodcarbadcar.net/2016/06/may-2016-ytd-usa-vehicle-sales-by-mode/',\n",
    " 'http://www.goodcarbadcar.net/2016/05/usa-vehicle-sales-by-model-april-2016-ytd-all-autos/',\n",
    " \"http://www.goodcarbadcar.net/2016/04/usa-march-2016-q1-new-vehicle-sales-by-mode/',\",\n",
    " \"http://www.goodcarbadcar.net/2016/03/usa-auto-sales-by-model-every-vehicle-february-2016-ytd/'\",\n",
    " \"http://www.goodcarbadcar.net/2016/02/usa-january-2016-vehicle-sales-rankings-by-mode/',\",\n",
    " \"http://www.goodcarbadcar.net/2016/01/usa-vehicle-sales-by-model-2015-calendar-year-december/',\",\n",
    " \"http://www.goodcarbadcar.net/2016/04/usa-march-2016-q1-new-vehicle-sales-by-mode/',\",\n",
    " \"http://www.goodcarbadcar.net/2015/03/usa-february-2015-new-vehicle-sales-figures-by-model-make/',\",\n",
    " \"http://www.goodcarbadcar.net/2015/02/complete-january-2015-auto-sales-figures-every-model-and-brand/'\",\n",
    " \"http://www.goodcarbadcar.net/2015/01/2014-usa-new-vehicle-sales-figures-by-mode/',\",\n",
    " \"http://www.goodcarbadcar.net/2014/12/usa-november-2014-vehicle-sales-figures-by-mode/',\",\n",
    " \"http://www.goodcarbadcar.net/2014/11/usa-vehicle-sales-rankings-by-model-october-2014-ytd/'\",\n",
    " \"http://www.goodcarbadcar.net/2014/10/usa-auto-sales-figures-by-model-september-2014-ytd-sales-figures/'\",\n",
    " \"http://www.goodcarbadcar.net/2014/09/usa-auto-sales-figures-by-model-august-2014-ytd-sales-figures/'\",\n",
    " \"http://www.goodcarbadcar.net/2014/08/usa-auto-sales-rankings-by-make-model-july-2014-ytd-sales-figures/'\",\n",
    " \"http://www.goodcarbadcar.net/2014/07/usa-all-vehicle-nameplates-ranked-june-2014-ytd-sales-figures/'\",\n",
    " \"http://www.goodcarbadcar.net/2014/06/usa-all-vehicle-nameplates-ranked-may-2014-ytd-sales-figures/'\",\n",
    " \"http://www.goodcarbadcar.net/2014/05/usa-all-vehicle-nameplates-ranked-april-2014-ytd-sales-figures/'\",\n",
    " \"http://www.goodcarbadcar.net/2014/04/march-2014-usa-auto-sales-make-and-model-all-vehicles-ranked/'\",\n",
    " \"http://www.goodcarbadcar.net/2014/03/february-2014-usa-auto-sales-make-and-model-all-vehicles-ranked/'\",\n",
    " \"http://www.goodcarbadcar.net/2014/02/january-2014-usa-vehicle-sales-rankings-by-mode/',\",\n",
    " \"http://www.goodcarbadcar.net/2014/01/usa-vehicle-sales-rankings-by-model-december-2013-year-end/',\",\n",
    " \"http://www.goodcarbadcar.net/2013/12/usa-auto-sales-rankings-by-model-november-2013-ytd/'\",\n",
    " 'http://www.goodcarbadcar.net/2013/11/usa-auto-sales-brand-rankings-october-2013-ytd-sales-figures/',\n",
    " \"http://www.goodcarbadcar.net/2013/10/usa-auto-sales-rankings-by-model-september-2013-ytd/'\",\n",
    " 'http://www.goodcarbadcar.net/2013/09/usa-auto-sales-rankings-by-model-august-2013-ytd/',\n",
    " 'http://www.goodcarbadcar.net/2013/08/usa-vehicle-sales-rankings-by-model-july-2013-ytd/',\n",
    " 'http://www.goodcarbadcar.net/2013/07/usa-auto-sales-rankings-by-model-june-2013-ytd/',\n",
    " 'http://www.goodcarbadcar.net/2013/06/usa-vehicle-sales-rankings-by-model-may-2013-ytd/',\n",
    " \"http://www.goodcarbadcar.net/2013/05/usa-vehicle-sales-rankings-by-model-april-2013-ytd/'\",\n",
    " \"http://www.goodcarbadcar.net/2013/04/march-2013-usa-vehicle-sales-rankings-by-mode/',\",\n",
    " \"http://www.goodcarbadcar.net/2013/03/february-2013-usa-vehicle-sales-rankings-by-mode/',\",\n",
    " 'http://www.goodcarbadcar.net/2013/02/january-2013-usa-auto-sales-rankings-by-mode/',\n",
    " 'http://www.goodcarbadcar.net/2012/12/november-2012-usa-ytd-auto-sales-rankings-by-mode/',\n",
    " 'http://www.goodcarbadcar.net/2012/11/october-2012-usa-ytd-auto-sales-rankings-by-mode/',\n",
    " 'http://www.goodcarbadcar.net/2012/10/september-2012-usa-ytd-auto-sales-rankings/',\n",
    " 'http://www.goodcarbadcar.net/2012/09/august-2012-ytd-all-vehicle-rankings/',\n",
    " 'http://www.goodcarbadcar.net/2012/08/usa-july-2012-ytd-auto-sales-rankings/',\n",
    " 'http://www.goodcarbadcar.net/2012/07/us-june-2012-sales-figures-rankings-ytd/',\n",
    " 'http://www.goodcarbadcar.net/2012/06/us-car-sales-rankings-june-2012/',\n",
    " \"http://www.goodcarbadcar.net/2012/05/april-2012-us-car-sales-rankings-a/',\",\n",
    " \"http://www.goodcarbadcar.net/2012/04/us-best-selling-autos-march-2012-ytd/'\",\n",
    " 'http://www.goodcarbadcar.net/2012/03/us-best-selling-autos-february-2012-ytd/',\n",
    " 'http://www.goodcarbadcar.net/2012/03/us-best-selling-autos-january-2012/',\n",
    " \"http://www.goodcarbadcar.net/2012/01/us-best-selling-vehicles-december-2011/',\",\n",
    " \"http://www.goodcarbadcar.net/2011/12/us-best-selling-vehicles-november-2011/'\",\n",
    " 'http://www.goodcarbadcar.net/2011/11/us-best-selling-vehicles-october-2011/']"
   ]
  },
  {
   "cell_type": "code",
   "execution_count": 442,
   "metadata": {},
   "outputs": [],
   "source": [
    "bad_url = 'http://www.goodcarbadcar.net/2013/01/2012-usa-auto-sales-rankings-by-model7/'"
   ]
  },
  {
   "cell_type": "code",
   "execution_count": 443,
   "metadata": {},
   "outputs": [],
   "source": [
    "def read_site_html(url):\n",
    "    '''\n",
    "    pulls text of tables from inputted url\n",
    "    returns as list of dataframes\n",
    "    '''\n",
    "    html = requests.get(url).text\n",
    "    dataframes = pd.read_html(html, header=0)\n",
    "    return dataframes"
   ]
  },
  {
   "cell_type": "code",
   "execution_count": 444,
   "metadata": {},
   "outputs": [],
   "source": [
    "def pull_useful_tables(dataframes):\n",
    "    '''\n",
    "    deletes tables with no data from list of dataframes\n",
    "    returns single dataframe for month\n",
    "    '''\n",
    "    list_of_dfs = []\n",
    "    if len(dataframes) == 1:\n",
    "        return dataframes[0]\n",
    "    else:\n",
    "        for df in dataframes:\n",
    "            if df.columns[0] == 'Rank':\n",
    "                list_of_dfs.append(df)\n",
    "        try:\n",
    "            merged_table = pd.concat(list_of_dfs)\n",
    "            return merged_table\n",
    "        except:\n",
    "            return list_of_dfs"
   ]
  },
  {
   "cell_type": "code",
   "execution_count": 445,
   "metadata": {},
   "outputs": [],
   "source": [
    "months = ['january', 'february', 'march', 'april', 'may', 'june', 'july', \n",
    "          'august', 'september', 'october', 'november', 'december']\n",
    "years = list(range(2010,2020))"
   ]
  },
  {
   "cell_type": "code",
   "execution_count": 446,
   "metadata": {},
   "outputs": [],
   "source": [
    "def find_year_and_month(url):\n",
    "    '''\n",
    "    parses url string to find month and year & last year of table\n",
    "    returns tuple of month as string and year & last year as integers\n",
    "    '''\n",
    "    month = [month for month in months if month in url]\n",
    "    year = min([year for year in years if str(year) in url])\n",
    "    last_year = year - 1\n",
    "    try:\n",
    "        month = month[0]\n",
    "    except:\n",
    "        month = 'NULL'\n",
    "    return month, year, last_year"
   ]
  },
  {
   "cell_type": "code",
   "execution_count": 447,
   "metadata": {},
   "outputs": [],
   "source": [
    "def change_column_to_month(dataframe, url):\n",
    "    '''\n",
    "    changes name of columns in dataframe to proper months, years\n",
    "    cuts unneeded columns of dataframe\n",
    "    '''\n",
    "    alternate_columns = ['Month', 'US']\n",
    "    dataframe.rename(columns={'Vehicle': 'Model'}, inplace=True)\n",
    "    dataframe.rename(columns={'Best-Selling Vehicle': 'Model'}, inplace=True)\n",
    "    if dataframe.columns[1] in alternate_columns:\n",
    "        table_date = find_year_and_month(url)\n",
    "        year_month = str(table_date[1]) + '_' + table_date[0]\n",
    "        prior_year_month = str(table_date[2]) + '_' + table_date[0]   \n",
    "        dataframe.rename(columns={'Month':year_month, 'Month LY':prior_year_month}, inplace=True)\n",
    "        dataframe.rename(columns={'US':year_month, 'US LY':prior_year_month}, inplace=True)\n",
    "        return dataframe.iloc[:,0:3]\n",
    "    else:\n",
    "        return dataframe.iloc[:,1:4]"
   ]
  },
  {
   "cell_type": "code",
   "execution_count": 459,
   "metadata": {},
   "outputs": [],
   "source": [
    "def scrape_one_page(url):\n",
    "    '''\n",
    "    takes in the site url, scrapes tables, changes column names\n",
    "    returns dataframes using helper functions\n",
    "    '''\n",
    "    tables = read_site_html(url)\n",
    "    df = pull_useful_tables(tables)\n",
    "    df = change_column_to_month(df, url)\n",
    "    return df"
   ]
  },
  {
   "cell_type": "code",
   "execution_count": 448,
   "metadata": {},
   "outputs": [],
   "source": [
    "def scraper(list_of_websites):\n",
    "    '''\n",
    "    takes in a list of urls, scrapes table on each page, regularizes column names,\n",
    "    and adds the dataframe to a list of dataframes which is returned\n",
    "    '''\n",
    "    list_of_dataframes = []\n",
    "    for url in list_of_urls:\n",
    "        df = scrape_one_page(url)\n",
    "        list_of_dataframes.append(df)\n",
    "    return list_of_dataframes"
   ]
  },
  {
   "cell_type": "code",
   "execution_count": 460,
   "metadata": {},
   "outputs": [],
   "source": [
    "def merge_dataframes(list_of_df):\n",
    "    '''\n",
    "    merges all dataframes on the model column, returns a single dataframe\n",
    "    '''\n",
    "    merged_df  = pd.DataFrame(columns=['Model'])\n",
    "    for df in list_of_dataframes:\n",
    "        merged_df = merged_df.merge(df, how='outer', on='Model')\n",
    "        merged_df.drop_duplicates(inplace=True)\n",
    "    return merged_df"
   ]
  },
  {
   "cell_type": "code",
   "execution_count": 461,
   "metadata": {},
   "outputs": [],
   "source": [
    "def run(lst_of_urls):\n",
    "    '''\n",
    "    runs scraper and merges all dataframes.\n",
    "    saves dataframe as a csv and returns a dataframe\n",
    "    '''\n",
    "    df_list = scraper(lst_of_urls)\n",
    "    df = merge_dataframes(df_list)\n",
    "    df.to_csv('merged_dataframe.csv')\n",
    "    return df"
   ]
  },
  {
   "cell_type": "code",
   "execution_count": 451,
   "metadata": {},
   "outputs": [],
   "source": [
    "df = run(list_of_urls)"
   ]
  }
 ],
 "metadata": {
  "kernelspec": {
   "display_name": "Python 3",
   "language": "python",
   "name": "python3"
  },
  "language_info": {
   "codemirror_mode": {
    "name": "ipython",
    "version": 3
   },
   "file_extension": ".py",
   "mimetype": "text/x-python",
   "name": "python",
   "nbconvert_exporter": "python",
   "pygments_lexer": "ipython3",
   "version": "3.6.7"
  }
 },
 "nbformat": 4,
 "nbformat_minor": 2
}
