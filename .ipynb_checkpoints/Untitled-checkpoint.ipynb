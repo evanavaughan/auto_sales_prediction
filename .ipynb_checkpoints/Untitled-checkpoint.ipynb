{
 "cells": [
  {
   "cell_type": "code",
   "execution_count": null,
   "metadata": {},
   "outputs": [],
   "source": [
    "march = 'http://www.goodcarbadcar.net/2019/04/march-2019-the-best-selling-vehicles-in-america-every-vehicle-ranked/'"
   ]
  },
  {
   "cell_type": "code",
   "execution_count": null,
   "metadata": {},
   "outputs": [],
   "source": [
    "april = 'http://www.goodcarbadcar.net/2019/05/april-2019-the-best-selling-vehicles-in-america-every-vehicle-ranked/'"
   ]
  },
  {
   "cell_type": "code",
   "execution_count": 1,
   "metadata": {},
   "outputs": [],
   "source": [
    "feb = 'http://www.goodcarbadcar.net/2019/03/february-2019-the-best-selling-vehicles-in-america-every-vehicle-ranked/'\n",
    "jan = 'http://www.goodcarbadcar.net/2019/02/january-2019-the-best-selling-vehicles-in-america-every-vehicle-ranked/'\n",
    "dec = 'http://www.goodcarbadcar.net/2019/01/december-2018-the-best-selling-vehicles-in-america-every-vehicle-ranked/'"
   ]
  },
  {
   "cell_type": "code",
   "execution_count": 2,
   "metadata": {},
   "outputs": [],
   "source": [
    "nov = 'http://www.goodcarbadcar.net/2018/12/november-2018-the-best-selling-vehicles-in-america-every-vehicle-ranked/'"
   ]
  },
  {
   "cell_type": "code",
   "execution_count": 4,
   "metadata": {},
   "outputs": [],
   "source": [
    "october = 'http://www.goodcarbadcar.net/2018/11/october-2018-the-best-selling-vehicles-in-america-every-vehicle-ranked/'"
   ]
  },
  {
   "cell_type": "code",
   "execution_count": null,
   "metadata": {},
   "outputs": [],
   "source": [
    "sept = 'http://www.goodcarbadcar.net/2018/10/september-2018-the-best-selling-vehicles-in-america-every-vehicle-ranked/'"
   ]
  }
 ],
 "metadata": {
  "kernelspec": {
   "display_name": "Python 3",
   "language": "python",
   "name": "python3"
  },
  "language_info": {
   "codemirror_mode": {
    "name": "ipython",
    "version": 3
   },
   "file_extension": ".py",
   "mimetype": "text/x-python",
   "name": "python",
   "nbconvert_exporter": "python",
   "pygments_lexer": "ipython3",
   "version": "3.6.7"
  }
 },
 "nbformat": 4,
 "nbformat_minor": 2
}
